{
  "cells": [
    {
      "cell_type": "markdown",
      "metadata": {
        "id": "view-in-github",
        "colab_type": "text"
      },
      "source": [
        "<a href=\"https://colab.research.google.com/github/annesantos1990/diversity_analysis/blob/main/Regressao_Linear_Eslaine.ipynb\" target=\"_parent\"><img src=\"https://colab.research.google.com/assets/colab-badge.svg\" alt=\"Open In Colab\"/></a>"
      ]
    },
    {
      "cell_type": "markdown",
      "metadata": {
        "id": "scpvcBICPlkb"
      },
      "source": [
        "# **Modelo de Regressão Linear**\n",
        "\n",
        "Eslaine Santos"
      ]
    },
    {
      "cell_type": "markdown",
      "source": [
        "![silhouette-profile-face-group-men-women-diverse-culture-people-diversity-racial-equality_175061-345.avif](data:image/avif;base64,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)"
      ],
      "metadata": {
        "id": "-R0lQeyndGig"
      }
    },
    {
      "cell_type": "markdown",
      "metadata": {
        "id": "QlQbpOsZPwJA"
      },
      "source": [
        "A proposta desse projeto é fazer um modelo que consiga predizer o salário das pessoas no setor de TI, trazendo insights de quais fatores influenciam mais ou menos nno salário dos profissionais da área.\n",
        "\n",
        "Nesse modelo, o enfoque será em predizer o salário de pessoas que trabalham com CLT. Isso porque existe muitas características diferentes do trabalho PJ e Freelancer que poderia atrapalhar o modelo."
      ]
    },
    {
      "cell_type": "markdown",
      "metadata": {
        "id": "tvLxOxVUgPOI"
      },
      "source": [
        "## Importando os dados"
      ]
    },
    {
      "cell_type": "code",
      "execution_count": null,
      "metadata": {
        "id": "gJGlczWQPrts"
      },
      "outputs": [],
      "source": [
        "import pandas as pd"
      ]
    },
    {
      "cell_type": "code",
      "execution_count": null,
      "metadata": {
        "id": "Au7uY_65Pfvs"
      },
      "outputs": [],
      "source": [
        "# lendo o aquivo do drive\n",
        "dados = pd.read_excel('/content/drive/MyDrive/PrograMaria - Análise de Dados/Módulo 7/analise_dados_mod7_(1).xlsx')"
      ]
    },
    {
      "cell_type": "code",
      "execution_count": null,
      "metadata": {
        "colab": {
          "base_uri": "https://localhost:8080/",
          "height": 776
        },
        "id": "-GXSC5fagd6B",
        "outputId": "74d97b59-68c2-4965-adc6-7da17cf72cb9"
      },
      "outputs": [
        {
          "output_type": "execute_result",
          "data": {
            "text/plain": [
              "                                 ID  IDADE FAIXA IDADE     GENERO  \\\n",
              "0  zzqzz3l9ily8nuo2m7wyzzqzz3w48o96   39.0       35-39  Masculino   \n",
              "1  zzls2oftfn9law393oezzls2ofhvfpzd   32.0       30-34  Masculino   \n",
              "2  zzdwqzfqqp1ypc7ps6m0hzzdwqz292yi   53.0       50-54  Masculino   \n",
              "3  zzbqh3uy7yk7k9qmkzzbqtb4s9faqspl   27.0       25-29  Masculino   \n",
              "4  zzaf1m95yan929rb94wzzaf1mekhvhpg   46.0       45-49   Feminino   \n",
              "\n",
              "  COR/RACA/ETNIA  PCD               EXPERIENCIA_PROFISSIONAL_PREJUDICADA  \\\n",
              "0          Parda  Não  Não acredito que minha experiência profissiona...   \n",
              "1          Parda  Não  Sim, acredito que a minha a experiência profis...   \n",
              "2         Branca  Não                                                NaN   \n",
              "3         Branca  Não                                                NaN   \n",
              "4         Branca  Não  Não acredito que minha experiência profissiona...   \n",
              "\n",
              "                          ASPECTOS_PREJUDICADOS  VIVE_NO_BRASIL  \\\n",
              "0                                           NaN            True   \n",
              "1  Aprovação em processos seletivos/entrevistas            True   \n",
              "2                                           NaN            True   \n",
              "3                                           NaN            True   \n",
              "4                                           NaN            True   \n",
              "\n",
              "        ESTADO ONDE MORA  ...  \\\n",
              "0  Distrito Federal (DF)  ...   \n",
              "1              Pará (PA)  ...   \n",
              "2  Distrito Federal (DF)  ...   \n",
              "3      Minas Gerais (MG)  ...   \n",
              "4              Pará (PA)  ...   \n",
              "\n",
              "  Você pretende mudar de emprego nos próximos 6 meses?  \\\n",
              "0  Não estou buscando e não pretendo mudar de emp...     \n",
              "1  Estou em busca de oportunidades dentro ou fora...     \n",
              "2  Não estou buscando, mas me considero aberto a ...     \n",
              "3  Não estou buscando, mas me considero aberto a ...     \n",
              "4  Não estou buscando, mas me considero aberto a ...     \n",
              "\n",
              "  Quais os principais critérios que você leva em consideração no momento de decidir onde trabalhar?  \\\n",
              "0                                         Benefícios                                                  \n",
              "1  Remuneração/Salário, Plano de carreira e oport...                                                  \n",
              "2  Remuneração/Salário, Flexibilidade de trabalho...                                                  \n",
              "3  Remuneração/Salário, Flexibilidade de trabalho...                                                  \n",
              "4  Remuneração/Salário, Oportunidade de aprendiza...                                                  \n",
              "\n",
              "            Atualmente qual a sua forma de trabalho?  \\\n",
              "0                             Modelo 100% presencial   \n",
              "1                             Modelo 100% presencial   \n",
              "2  Modelo híbrido com dias fixos de trabalho pres...   \n",
              "3  Modelo híbrido flexível (o funcionário tem lib...   \n",
              "4                             Modelo 100% presencial   \n",
              "\n",
              "           Qual a forma de trabalho ideal para você?  \\\n",
              "0  Modelo híbrido com dias fixos de trabalho pres...   \n",
              "1  Modelo híbrido flexível (o funcionário tem lib...   \n",
              "2  Modelo híbrido flexível (o funcionário tem lib...   \n",
              "3  Modelo híbrido flexível (o funcionário tem lib...   \n",
              "4                             Modelo 100% presencial   \n",
              "\n",
              "  Caso sua empresa decida pelo modelo 100% presencial qual será sua atitude?  \\\n",
              "0   Vou aceitar e retornar ao modelo 100% presencial                           \n",
              "1   Vou aceitar e retornar ao modelo 100% presencial                           \n",
              "2  Vou procurar outra oportunidade no modelo híbr...                           \n",
              "3  Vou procurar outra oportunidade no modelo híbr...                           \n",
              "4   Vou aceitar e retornar ao modelo 100% presencial                           \n",
              "\n",
              "               Sua empresa passu por Layoff em 2022?  \\\n",
              "0  Não ocorreram layoffs/demissões em massa na em...   \n",
              "1  Não ocorreram layoffs/demissões em massa na em...   \n",
              "2  Não ocorreram layoffs/demissões em massa na em...   \n",
              "3  Não ocorreram layoffs/demissões em massa na em...   \n",
              "4  Não ocorreram layoffs/demissões em massa na em...   \n",
              "\n",
              "                                             Atuacao  \\\n",
              "0                                Engenharia de Dados   \n",
              "1                                             Gestor   \n",
              "2  desenvolve modelos preditivos e algoritmos de ...   \n",
              "3  desenvolve modelos preditivos e algoritmos de ...   \n",
              "4                                      Outra atuação   \n",
              "\n",
              "  Quais das linguagens listadas abaixo você utiliza no trabalho? EM_BUSCA  \\\n",
              "0                                                SQL                  0.0   \n",
              "1                                                NaN                  1.0   \n",
              "2                                                  1                  0.0   \n",
              "3                                                  0                  0.0   \n",
              "4                                                SQL                  0.0   \n",
              "\n",
              "   ABERTO_OPORTUNIDADES  \n",
              "0                   0.0  \n",
              "1                   0.0  \n",
              "2                   1.0  \n",
              "3                   1.0  \n",
              "4                   1.0  \n",
              "\n",
              "[5 rows x 46 columns]"
            ],
            "text/html": [
              "\n",
              "  <div id=\"df-065f1438-8aa6-40ab-80f1-afb1721cf09a\" class=\"colab-df-container\">\n",
              "    <div>\n",
              "<style scoped>\n",
              "    .dataframe tbody tr th:only-of-type {\n",
              "        vertical-align: middle;\n",
              "    }\n",
              "\n",
              "    .dataframe tbody tr th {\n",
              "        vertical-align: top;\n",
              "    }\n",
              "\n",
              "    .dataframe thead th {\n",
              "        text-align: right;\n",
              "    }\n",
              "</style>\n",
              "<table border=\"1\" class=\"dataframe\">\n",
              "  <thead>\n",
              "    <tr style=\"text-align: right;\">\n",
              "      <th></th>\n",
              "      <th>ID</th>\n",
              "      <th>IDADE</th>\n",
              "      <th>FAIXA IDADE</th>\n",
              "      <th>GENERO</th>\n",
              "      <th>COR/RACA/ETNIA</th>\n",
              "      <th>PCD</th>\n",
              "      <th>EXPERIENCIA_PROFISSIONAL_PREJUDICADA</th>\n",
              "      <th>ASPECTOS_PREJUDICADOS</th>\n",
              "      <th>VIVE_NO_BRASIL</th>\n",
              "      <th>ESTADO ONDE MORA</th>\n",
              "      <th>...</th>\n",
              "      <th>Você pretende mudar de emprego nos próximos 6 meses?</th>\n",
              "      <th>Quais os principais critérios que você leva em consideração no momento de decidir onde trabalhar?</th>\n",
              "      <th>Atualmente qual a sua forma de trabalho?</th>\n",
              "      <th>Qual a forma de trabalho ideal para você?</th>\n",
              "      <th>Caso sua empresa decida pelo modelo 100% presencial qual será sua atitude?</th>\n",
              "      <th>Sua empresa passu por Layoff em 2022?</th>\n",
              "      <th>Atuacao</th>\n",
              "      <th>Quais das linguagens listadas abaixo você utiliza no trabalho?</th>\n",
              "      <th>EM_BUSCA</th>\n",
              "      <th>ABERTO_OPORTUNIDADES</th>\n",
              "    </tr>\n",
              "  </thead>\n",
              "  <tbody>\n",
              "    <tr>\n",
              "      <th>0</th>\n",
              "      <td>zzqzz3l9ily8nuo2m7wyzzqzz3w48o96</td>\n",
              "      <td>39.0</td>\n",
              "      <td>35-39</td>\n",
              "      <td>Masculino</td>\n",
              "      <td>Parda</td>\n",
              "      <td>Não</td>\n",
              "      <td>Não acredito que minha experiência profissiona...</td>\n",
              "      <td>NaN</td>\n",
              "      <td>True</td>\n",
              "      <td>Distrito Federal (DF)</td>\n",
              "      <td>...</td>\n",
              "      <td>Não estou buscando e não pretendo mudar de emp...</td>\n",
              "      <td>Benefícios</td>\n",
              "      <td>Modelo 100% presencial</td>\n",
              "      <td>Modelo híbrido com dias fixos de trabalho pres...</td>\n",
              "      <td>Vou aceitar e retornar ao modelo 100% presencial</td>\n",
              "      <td>Não ocorreram layoffs/demissões em massa na em...</td>\n",
              "      <td>Engenharia de Dados</td>\n",
              "      <td>SQL</td>\n",
              "      <td>0.0</td>\n",
              "      <td>0.0</td>\n",
              "    </tr>\n",
              "    <tr>\n",
              "      <th>1</th>\n",
              "      <td>zzls2oftfn9law393oezzls2ofhvfpzd</td>\n",
              "      <td>32.0</td>\n",
              "      <td>30-34</td>\n",
              "      <td>Masculino</td>\n",
              "      <td>Parda</td>\n",
              "      <td>Não</td>\n",
              "      <td>Sim, acredito que a minha a experiência profis...</td>\n",
              "      <td>Aprovação em processos seletivos/entrevistas</td>\n",
              "      <td>True</td>\n",
              "      <td>Pará (PA)</td>\n",
              "      <td>...</td>\n",
              "      <td>Estou em busca de oportunidades dentro ou fora...</td>\n",
              "      <td>Remuneração/Salário, Plano de carreira e oport...</td>\n",
              "      <td>Modelo 100% presencial</td>\n",
              "      <td>Modelo híbrido flexível (o funcionário tem lib...</td>\n",
              "      <td>Vou aceitar e retornar ao modelo 100% presencial</td>\n",
              "      <td>Não ocorreram layoffs/demissões em massa na em...</td>\n",
              "      <td>Gestor</td>\n",
              "      <td>NaN</td>\n",
              "      <td>1.0</td>\n",
              "      <td>0.0</td>\n",
              "    </tr>\n",
              "    <tr>\n",
              "      <th>2</th>\n",
              "      <td>zzdwqzfqqp1ypc7ps6m0hzzdwqz292yi</td>\n",
              "      <td>53.0</td>\n",
              "      <td>50-54</td>\n",
              "      <td>Masculino</td>\n",
              "      <td>Branca</td>\n",
              "      <td>Não</td>\n",
              "      <td>NaN</td>\n",
              "      <td>NaN</td>\n",
              "      <td>True</td>\n",
              "      <td>Distrito Federal (DF)</td>\n",
              "      <td>...</td>\n",
              "      <td>Não estou buscando, mas me considero aberto a ...</td>\n",
              "      <td>Remuneração/Salário, Flexibilidade de trabalho...</td>\n",
              "      <td>Modelo híbrido com dias fixos de trabalho pres...</td>\n",
              "      <td>Modelo híbrido flexível (o funcionário tem lib...</td>\n",
              "      <td>Vou procurar outra oportunidade no modelo híbr...</td>\n",
              "      <td>Não ocorreram layoffs/demissões em massa na em...</td>\n",
              "      <td>desenvolve modelos preditivos e algoritmos de ...</td>\n",
              "      <td>1</td>\n",
              "      <td>0.0</td>\n",
              "      <td>1.0</td>\n",
              "    </tr>\n",
              "    <tr>\n",
              "      <th>3</th>\n",
              "      <td>zzbqh3uy7yk7k9qmkzzbqtb4s9faqspl</td>\n",
              "      <td>27.0</td>\n",
              "      <td>25-29</td>\n",
              "      <td>Masculino</td>\n",
              "      <td>Branca</td>\n",
              "      <td>Não</td>\n",
              "      <td>NaN</td>\n",
              "      <td>NaN</td>\n",
              "      <td>True</td>\n",
              "      <td>Minas Gerais (MG)</td>\n",
              "      <td>...</td>\n",
              "      <td>Não estou buscando, mas me considero aberto a ...</td>\n",
              "      <td>Remuneração/Salário, Flexibilidade de trabalho...</td>\n",
              "      <td>Modelo híbrido flexível (o funcionário tem lib...</td>\n",
              "      <td>Modelo híbrido flexível (o funcionário tem lib...</td>\n",
              "      <td>Vou procurar outra oportunidade no modelo híbr...</td>\n",
              "      <td>Não ocorreram layoffs/demissões em massa na em...</td>\n",
              "      <td>desenvolve modelos preditivos e algoritmos de ...</td>\n",
              "      <td>0</td>\n",
              "      <td>0.0</td>\n",
              "      <td>1.0</td>\n",
              "    </tr>\n",
              "    <tr>\n",
              "      <th>4</th>\n",
              "      <td>zzaf1m95yan929rb94wzzaf1mekhvhpg</td>\n",
              "      <td>46.0</td>\n",
              "      <td>45-49</td>\n",
              "      <td>Feminino</td>\n",
              "      <td>Branca</td>\n",
              "      <td>Não</td>\n",
              "      <td>Não acredito que minha experiência profissiona...</td>\n",
              "      <td>NaN</td>\n",
              "      <td>True</td>\n",
              "      <td>Pará (PA)</td>\n",
              "      <td>...</td>\n",
              "      <td>Não estou buscando, mas me considero aberto a ...</td>\n",
              "      <td>Remuneração/Salário, Oportunidade de aprendiza...</td>\n",
              "      <td>Modelo 100% presencial</td>\n",
              "      <td>Modelo 100% presencial</td>\n",
              "      <td>Vou aceitar e retornar ao modelo 100% presencial</td>\n",
              "      <td>Não ocorreram layoffs/demissões em massa na em...</td>\n",
              "      <td>Outra atuação</td>\n",
              "      <td>SQL</td>\n",
              "      <td>0.0</td>\n",
              "      <td>1.0</td>\n",
              "    </tr>\n",
              "  </tbody>\n",
              "</table>\n",
              "<p>5 rows × 46 columns</p>\n",
              "</div>\n",
              "    <div class=\"colab-df-buttons\">\n",
              "\n",
              "  <div class=\"colab-df-container\">\n",
              "    <button class=\"colab-df-convert\" onclick=\"convertToInteractive('df-065f1438-8aa6-40ab-80f1-afb1721cf09a')\"\n",
              "            title=\"Convert this dataframe to an interactive table.\"\n",
              "            style=\"display:none;\">\n",
              "\n",
              "  <svg xmlns=\"http://www.w3.org/2000/svg\" height=\"24px\" viewBox=\"0 -960 960 960\">\n",
              "    <path d=\"M120-120v-720h720v720H120Zm60-500h600v-160H180v160Zm220 220h160v-160H400v160Zm0 220h160v-160H400v160ZM180-400h160v-160H180v160Zm440 0h160v-160H620v160ZM180-180h160v-160H180v160Zm440 0h160v-160H620v160Z\"/>\n",
              "  </svg>\n",
              "    </button>\n",
              "\n",
              "  <style>\n",
              "    .colab-df-container {\n",
              "      display:flex;\n",
              "      gap: 12px;\n",
              "    }\n",
              "\n",
              "    .colab-df-convert {\n",
              "      background-color: #E8F0FE;\n",
              "      border: none;\n",
              "      border-radius: 50%;\n",
              "      cursor: pointer;\n",
              "      display: none;\n",
              "      fill: #1967D2;\n",
              "      height: 32px;\n",
              "      padding: 0 0 0 0;\n",
              "      width: 32px;\n",
              "    }\n",
              "\n",
              "    .colab-df-convert:hover {\n",
              "      background-color: #E2EBFA;\n",
              "      box-shadow: 0px 1px 2px rgba(60, 64, 67, 0.3), 0px 1px 3px 1px rgba(60, 64, 67, 0.15);\n",
              "      fill: #174EA6;\n",
              "    }\n",
              "\n",
              "    .colab-df-buttons div {\n",
              "      margin-bottom: 4px;\n",
              "    }\n",
              "\n",
              "    [theme=dark] .colab-df-convert {\n",
              "      background-color: #3B4455;\n",
              "      fill: #D2E3FC;\n",
              "    }\n",
              "\n",
              "    [theme=dark] .colab-df-convert:hover {\n",
              "      background-color: #434B5C;\n",
              "      box-shadow: 0px 1px 3px 1px rgba(0, 0, 0, 0.15);\n",
              "      filter: drop-shadow(0px 1px 2px rgba(0, 0, 0, 0.3));\n",
              "      fill: #FFFFFF;\n",
              "    }\n",
              "  </style>\n",
              "\n",
              "    <script>\n",
              "      const buttonEl =\n",
              "        document.querySelector('#df-065f1438-8aa6-40ab-80f1-afb1721cf09a button.colab-df-convert');\n",
              "      buttonEl.style.display =\n",
              "        google.colab.kernel.accessAllowed ? 'block' : 'none';\n",
              "\n",
              "      async function convertToInteractive(key) {\n",
              "        const element = document.querySelector('#df-065f1438-8aa6-40ab-80f1-afb1721cf09a');\n",
              "        const dataTable =\n",
              "          await google.colab.kernel.invokeFunction('convertToInteractive',\n",
              "                                                    [key], {});\n",
              "        if (!dataTable) return;\n",
              "\n",
              "        const docLinkHtml = 'Like what you see? Visit the ' +\n",
              "          '<a target=\"_blank\" href=https://colab.research.google.com/notebooks/data_table.ipynb>data table notebook</a>'\n",
              "          + ' to learn more about interactive tables.';\n",
              "        element.innerHTML = '';\n",
              "        dataTable['output_type'] = 'display_data';\n",
              "        await google.colab.output.renderOutput(dataTable, element);\n",
              "        const docLink = document.createElement('div');\n",
              "        docLink.innerHTML = docLinkHtml;\n",
              "        element.appendChild(docLink);\n",
              "      }\n",
              "    </script>\n",
              "  </div>\n",
              "\n",
              "\n",
              "<div id=\"df-33a18c0c-814d-46dc-9c40-95df3773aecb\">\n",
              "  <button class=\"colab-df-quickchart\" onclick=\"quickchart('df-33a18c0c-814d-46dc-9c40-95df3773aecb')\"\n",
              "            title=\"Suggest charts\"\n",
              "            style=\"display:none;\">\n",
              "\n",
              "<svg xmlns=\"http://www.w3.org/2000/svg\" height=\"24px\"viewBox=\"0 0 24 24\"\n",
              "     width=\"24px\">\n",
              "    <g>\n",
              "        <path d=\"M19 3H5c-1.1 0-2 .9-2 2v14c0 1.1.9 2 2 2h14c1.1 0 2-.9 2-2V5c0-1.1-.9-2-2-2zM9 17H7v-7h2v7zm4 0h-2V7h2v10zm4 0h-2v-4h2v4z\"/>\n",
              "    </g>\n",
              "</svg>\n",
              "  </button>\n",
              "\n",
              "<style>\n",
              "  .colab-df-quickchart {\n",
              "      --bg-color: #E8F0FE;\n",
              "      --fill-color: #1967D2;\n",
              "      --hover-bg-color: #E2EBFA;\n",
              "      --hover-fill-color: #174EA6;\n",
              "      --disabled-fill-color: #AAA;\n",
              "      --disabled-bg-color: #DDD;\n",
              "  }\n",
              "\n",
              "  [theme=dark] .colab-df-quickchart {\n",
              "      --bg-color: #3B4455;\n",
              "      --fill-color: #D2E3FC;\n",
              "      --hover-bg-color: #434B5C;\n",
              "      --hover-fill-color: #FFFFFF;\n",
              "      --disabled-bg-color: #3B4455;\n",
              "      --disabled-fill-color: #666;\n",
              "  }\n",
              "\n",
              "  .colab-df-quickchart {\n",
              "    background-color: var(--bg-color);\n",
              "    border: none;\n",
              "    border-radius: 50%;\n",
              "    cursor: pointer;\n",
              "    display: none;\n",
              "    fill: var(--fill-color);\n",
              "    height: 32px;\n",
              "    padding: 0;\n",
              "    width: 32px;\n",
              "  }\n",
              "\n",
              "  .colab-df-quickchart:hover {\n",
              "    background-color: var(--hover-bg-color);\n",
              "    box-shadow: 0 1px 2px rgba(60, 64, 67, 0.3), 0 1px 3px 1px rgba(60, 64, 67, 0.15);\n",
              "    fill: var(--button-hover-fill-color);\n",
              "  }\n",
              "\n",
              "  .colab-df-quickchart-complete:disabled,\n",
              "  .colab-df-quickchart-complete:disabled:hover {\n",
              "    background-color: var(--disabled-bg-color);\n",
              "    fill: var(--disabled-fill-color);\n",
              "    box-shadow: none;\n",
              "  }\n",
              "\n",
              "  .colab-df-spinner {\n",
              "    border: 2px solid var(--fill-color);\n",
              "    border-color: transparent;\n",
              "    border-bottom-color: var(--fill-color);\n",
              "    animation:\n",
              "      spin 1s steps(1) infinite;\n",
              "  }\n",
              "\n",
              "  @keyframes spin {\n",
              "    0% {\n",
              "      border-color: transparent;\n",
              "      border-bottom-color: var(--fill-color);\n",
              "      border-left-color: var(--fill-color);\n",
              "    }\n",
              "    20% {\n",
              "      border-color: transparent;\n",
              "      border-left-color: var(--fill-color);\n",
              "      border-top-color: var(--fill-color);\n",
              "    }\n",
              "    30% {\n",
              "      border-color: transparent;\n",
              "      border-left-color: var(--fill-color);\n",
              "      border-top-color: var(--fill-color);\n",
              "      border-right-color: var(--fill-color);\n",
              "    }\n",
              "    40% {\n",
              "      border-color: transparent;\n",
              "      border-right-color: var(--fill-color);\n",
              "      border-top-color: var(--fill-color);\n",
              "    }\n",
              "    60% {\n",
              "      border-color: transparent;\n",
              "      border-right-color: var(--fill-color);\n",
              "    }\n",
              "    80% {\n",
              "      border-color: transparent;\n",
              "      border-right-color: var(--fill-color);\n",
              "      border-bottom-color: var(--fill-color);\n",
              "    }\n",
              "    90% {\n",
              "      border-color: transparent;\n",
              "      border-bottom-color: var(--fill-color);\n",
              "    }\n",
              "  }\n",
              "</style>\n",
              "\n",
              "  <script>\n",
              "    async function quickchart(key) {\n",
              "      const quickchartButtonEl =\n",
              "        document.querySelector('#' + key + ' button');\n",
              "      quickchartButtonEl.disabled = true;  // To prevent multiple clicks.\n",
              "      quickchartButtonEl.classList.add('colab-df-spinner');\n",
              "      try {\n",
              "        const charts = await google.colab.kernel.invokeFunction(\n",
              "            'suggestCharts', [key], {});\n",
              "      } catch (error) {\n",
              "        console.error('Error during call to suggestCharts:', error);\n",
              "      }\n",
              "      quickchartButtonEl.classList.remove('colab-df-spinner');\n",
              "      quickchartButtonEl.classList.add('colab-df-quickchart-complete');\n",
              "    }\n",
              "    (() => {\n",
              "      let quickchartButtonEl =\n",
              "        document.querySelector('#df-33a18c0c-814d-46dc-9c40-95df3773aecb button');\n",
              "      quickchartButtonEl.style.display =\n",
              "        google.colab.kernel.accessAllowed ? 'block' : 'none';\n",
              "    })();\n",
              "  </script>\n",
              "</div>\n",
              "\n",
              "    </div>\n",
              "  </div>\n"
            ],
            "application/vnd.google.colaboratory.intrinsic+json": {
              "type": "dataframe",
              "variable_name": "dados"
            }
          },
          "metadata": {},
          "execution_count": 165
        }
      ],
      "source": [
        "dados.head()"
      ]
    },
    {
      "cell_type": "code",
      "execution_count": null,
      "metadata": {
        "colab": {
          "base_uri": "https://localhost:8080/"
        },
        "id": "bs2sZhDBhF-W",
        "outputId": "aa375398-0f13-4449-afe4-83e9d9c0fb1d"
      },
      "outputs": [
        {
          "output_type": "stream",
          "name": "stdout",
          "text": [
            "<class 'pandas.core.frame.DataFrame'>\n",
            "RangeIndex: 4271 entries, 0 to 4270\n",
            "Data columns (total 46 columns):\n",
            " #   Column                                                                                                                     Non-Null Count  Dtype  \n",
            "---  ------                                                                                                                     --------------  -----  \n",
            " 0   ID                                                                                                                         4271 non-null   object \n",
            " 1   IDADE                                                                                                                      4271 non-null   float64\n",
            " 2   FAIXA IDADE                                                                                                                4271 non-null   object \n",
            " 3   GENERO                                                                                                                     4271 non-null   object \n",
            " 4   COR/RACA/ETNIA                                                                                                             4271 non-null   object \n",
            " 5   PCD                                                                                                                        4271 non-null   object \n",
            " 6   EXPERIENCIA_PROFISSIONAL_PREJUDICADA                                                                                       2190 non-null   object \n",
            " 7   ASPECTOS_PREJUDICADOS                                                                                                      837 non-null    object \n",
            " 8   VIVE_NO_BRASIL                                                                                                             4271 non-null   bool   \n",
            " 9   ESTADO ONDE MORA                                                                                                           4156 non-null   object \n",
            " 10  UF ONDE MORA                                                                                                               4156 non-null   object \n",
            " 11  REGIAO ONDE MORA                                                                                                           4171 non-null   object \n",
            " 12  MUDOU DE ESTADO?                                                                                                           4171 non-null   float64\n",
            " 13  REGIAO DE ORIGEM                                                                                                           772 non-null    object \n",
            " 14  NIVEL DE ENSINO                                                                                                            4271 non-null   object \n",
            " 15  ÁREA DE FORMAÇÃO                                                                                                           4149 non-null   object \n",
            " 16  QUAL SUA SITUAÇÃO ATUAL DE TRABALHO?                                                                                       4271 non-null   object \n",
            " 17  SETOR                                                                                                                      3694 non-null   object \n",
            " 18  NUMERO DE FUNCIONARIOS                                                                                                     3694 non-null   object \n",
            " 19  GESTOR?                                                                                                                    3694 non-null   float64\n",
            " 20  CARGO COMO GESTOR                                                                                                          713 non-null    object \n",
            " 21  CARGO ATUAL                                                                                                                2981 non-null   object \n",
            " 22  FAIXA SALARIAL                                                                                                             3694 non-null   object \n",
            " 23  QUANTO TEMPO DE EXPERIÊNCIA NA ÁREA DE DADOS VOCÊ TEM?                                                                     3694 non-null   object \n",
            " 24  QUANTO TEMPO DE EXPERIÊNCIA NA ÁREA DE TI/ENGENHARIA DE SOFTWARE VOCÊ TEVE ANTES DE COMEÇAR A TRABALHAR NA ÁREA DE DADOS?  3694 non-null   object \n",
            " 25  SALARIO                                                                                                                    4271 non-null   float64\n",
            " 26  NOVO_NIVEL                                                                                                                 3694 non-null   object \n",
            " 27  NIVEL_Júnior                                                                                                               4271 non-null   bool   \n",
            " 28  NIVEL_Pleno                                                                                                                4271 non-null   bool   \n",
            " 29  NIVEL_Sênior                                                                                                               4271 non-null   bool   \n",
            " 30  GEARACAO                                                                                                                   4271 non-null   object \n",
            " 31  Quanto tempo de experiência na área de dados você tem?                                                                     3694 non-null   object \n",
            " 32  Quanto tempo de experiência na área de TI/Engenharia de Software você teve antes de começar a trabalhar na área de dados?  3694 non-null   object \n",
            " 33  Você está satisfeito na sua empresa atual?                                                                                 3694 non-null   float64\n",
            " 34  Qual o principal motivo da sua insatisfação com a empresa atual?                                                           960 non-null    object \n",
            " 35  Você participou de entrevistas de emprego nos últimos 6 meses?                                                             3694 non-null   object \n",
            " 36  Você pretende mudar de emprego nos próximos 6 meses?                                                                       3694 non-null   object \n",
            " 37  Quais os principais critérios que você leva em consideração no momento de decidir onde trabalhar?                          3694 non-null   object \n",
            " 38  Atualmente qual a sua forma de trabalho?                                                                                   3694 non-null   object \n",
            " 39  Qual a forma de trabalho ideal para você?                                                                                  3694 non-null   object \n",
            " 40  Caso sua empresa decida pelo modelo 100% presencial qual será sua atitude?                                                 3694 non-null   object \n",
            " 41  Sua empresa passu por Layoff em 2022?                                                                                      3694 non-null   object \n",
            " 42  Atuacao                                                                                                                    4271 non-null   object \n",
            " 43  Quais das linguagens listadas abaixo você utiliza no trabalho?                                                             2981 non-null   object \n",
            " 44  EM_BUSCA                                                                                                                   3694 non-null   float64\n",
            " 45  ABERTO_OPORTUNIDADES                                                                                                       3694 non-null   float64\n",
            "dtypes: bool(4), float64(7), object(35)\n",
            "memory usage: 1.4+ MB\n"
          ]
        }
      ],
      "source": [
        "dados.info()"
      ]
    },
    {
      "cell_type": "markdown",
      "source": [
        "## Feature Engineering"
      ],
      "metadata": {
        "id": "fU8HzZYRMPhU"
      }
    },
    {
      "cell_type": "markdown",
      "metadata": {
        "id": "nUHYopVw6SRx"
      },
      "source": [
        "### Variável - Situação de Trabalho"
      ]
    },
    {
      "cell_type": "markdown",
      "metadata": {
        "id": "hnNlOK5B6bAl"
      },
      "source": [
        "Será selecionada nessa coluna, somente as pessoas que trabalham CLT como foi mencionado na introdução."
      ]
    },
    {
      "cell_type": "code",
      "execution_count": null,
      "metadata": {
        "colab": {
          "base_uri": "https://localhost:8080/",
          "height": 523
        },
        "id": "OhR-rLHThK9O",
        "outputId": "c84161c3-7355-467c-fb07-e306ed9206c9"
      },
      "outputs": [
        {
          "output_type": "execute_result",
          "data": {
            "text/plain": [
              "QUAL SUA SITUAÇÃO ATUAL DE TRABALHO?\n",
              "Empregado (CLT)                                                    2762\n",
              "Empreendedor ou Empregado (CNPJ)                                    410\n",
              "Desempregado, buscando recolocação                                  350\n",
              "Estagiário                                                          188\n",
              "Servidor Público                                                    156\n",
              "Trabalho na área Acadêmica/Pesquisador                               86\n",
              "Somente Estudante (graduação)                                        82\n",
              "Vivo no Brasil e trabalho remoto para empresa de fora do Brasil      69\n",
              "Vivo fora do Brasil e trabalho para empresa de fora do Brasil        46\n",
              "Somente Estudante (pós-graduação)                                    44\n",
              "Freelancer                                                           39\n",
              "Prefiro não informar                                                 24\n",
              "Desempregado e não estou buscando recolocação                        15\n",
              "Name: count, dtype: int64"
            ],
            "text/html": [
              "<div>\n",
              "<style scoped>\n",
              "    .dataframe tbody tr th:only-of-type {\n",
              "        vertical-align: middle;\n",
              "    }\n",
              "\n",
              "    .dataframe tbody tr th {\n",
              "        vertical-align: top;\n",
              "    }\n",
              "\n",
              "    .dataframe thead th {\n",
              "        text-align: right;\n",
              "    }\n",
              "</style>\n",
              "<table border=\"1\" class=\"dataframe\">\n",
              "  <thead>\n",
              "    <tr style=\"text-align: right;\">\n",
              "      <th></th>\n",
              "      <th>count</th>\n",
              "    </tr>\n",
              "    <tr>\n",
              "      <th>QUAL SUA SITUAÇÃO ATUAL DE TRABALHO?</th>\n",
              "      <th></th>\n",
              "    </tr>\n",
              "  </thead>\n",
              "  <tbody>\n",
              "    <tr>\n",
              "      <th>Empregado (CLT)</th>\n",
              "      <td>2762</td>\n",
              "    </tr>\n",
              "    <tr>\n",
              "      <th>Empreendedor ou Empregado (CNPJ)</th>\n",
              "      <td>410</td>\n",
              "    </tr>\n",
              "    <tr>\n",
              "      <th>Desempregado, buscando recolocação</th>\n",
              "      <td>350</td>\n",
              "    </tr>\n",
              "    <tr>\n",
              "      <th>Estagiário</th>\n",
              "      <td>188</td>\n",
              "    </tr>\n",
              "    <tr>\n",
              "      <th>Servidor Público</th>\n",
              "      <td>156</td>\n",
              "    </tr>\n",
              "    <tr>\n",
              "      <th>Trabalho na área Acadêmica/Pesquisador</th>\n",
              "      <td>86</td>\n",
              "    </tr>\n",
              "    <tr>\n",
              "      <th>Somente Estudante (graduação)</th>\n",
              "      <td>82</td>\n",
              "    </tr>\n",
              "    <tr>\n",
              "      <th>Vivo no Brasil e trabalho remoto para empresa de fora do Brasil</th>\n",
              "      <td>69</td>\n",
              "    </tr>\n",
              "    <tr>\n",
              "      <th>Vivo fora do Brasil e trabalho para empresa de fora do Brasil</th>\n",
              "      <td>46</td>\n",
              "    </tr>\n",
              "    <tr>\n",
              "      <th>Somente Estudante (pós-graduação)</th>\n",
              "      <td>44</td>\n",
              "    </tr>\n",
              "    <tr>\n",
              "      <th>Freelancer</th>\n",
              "      <td>39</td>\n",
              "    </tr>\n",
              "    <tr>\n",
              "      <th>Prefiro não informar</th>\n",
              "      <td>24</td>\n",
              "    </tr>\n",
              "    <tr>\n",
              "      <th>Desempregado e não estou buscando recolocação</th>\n",
              "      <td>15</td>\n",
              "    </tr>\n",
              "  </tbody>\n",
              "</table>\n",
              "</div><br><label><b>dtype:</b> int64</label>"
            ]
          },
          "metadata": {},
          "execution_count": 167
        }
      ],
      "source": [
        "dados['QUAL SUA SITUAÇÃO ATUAL DE TRABALHO?'].value_counts()"
      ]
    },
    {
      "cell_type": "code",
      "execution_count": null,
      "metadata": {
        "id": "W9qslB9Shazx"
      },
      "outputs": [],
      "source": [
        "dados1 = dados[dados['QUAL SUA SITUAÇÃO ATUAL DE TRABALHO?'] == 'Empregado (CLT)']"
      ]
    },
    {
      "cell_type": "code",
      "execution_count": null,
      "metadata": {
        "colab": {
          "base_uri": "https://localhost:8080/",
          "height": 147
        },
        "id": "URU6HiFphoGq",
        "outputId": "f9a2aa90-ae2d-43c5-e865-d192d7a8d52d"
      },
      "outputs": [
        {
          "output_type": "execute_result",
          "data": {
            "text/plain": [
              "QUAL SUA SITUAÇÃO ATUAL DE TRABALHO?\n",
              "Empregado (CLT)    2762\n",
              "Name: count, dtype: int64"
            ],
            "text/html": [
              "<div>\n",
              "<style scoped>\n",
              "    .dataframe tbody tr th:only-of-type {\n",
              "        vertical-align: middle;\n",
              "    }\n",
              "\n",
              "    .dataframe tbody tr th {\n",
              "        vertical-align: top;\n",
              "    }\n",
              "\n",
              "    .dataframe thead th {\n",
              "        text-align: right;\n",
              "    }\n",
              "</style>\n",
              "<table border=\"1\" class=\"dataframe\">\n",
              "  <thead>\n",
              "    <tr style=\"text-align: right;\">\n",
              "      <th></th>\n",
              "      <th>count</th>\n",
              "    </tr>\n",
              "    <tr>\n",
              "      <th>QUAL SUA SITUAÇÃO ATUAL DE TRABALHO?</th>\n",
              "      <th></th>\n",
              "    </tr>\n",
              "  </thead>\n",
              "  <tbody>\n",
              "    <tr>\n",
              "      <th>Empregado (CLT)</th>\n",
              "      <td>2762</td>\n",
              "    </tr>\n",
              "  </tbody>\n",
              "</table>\n",
              "</div><br><label><b>dtype:</b> int64</label>"
            ]
          },
          "metadata": {},
          "execution_count": 169
        }
      ],
      "source": [
        "dados1['QUAL SUA SITUAÇÃO ATUAL DE TRABALHO?'].value_counts()"
      ]
    },
    {
      "cell_type": "markdown",
      "metadata": {
        "id": "oN-gioEQ6oAN"
      },
      "source": [
        "### Variável - Cor/Raça/Etnia"
      ]
    },
    {
      "cell_type": "code",
      "execution_count": null,
      "metadata": {
        "colab": {
          "base_uri": "https://localhost:8080/",
          "height": 335
        },
        "id": "xu-wr-a1h0sE",
        "outputId": "030d5048-2ff1-4e65-dfb1-a621ae667a7e"
      },
      "outputs": [
        {
          "output_type": "execute_result",
          "data": {
            "text/plain": [
              "COR/RACA/ETNIA\n",
              "Branca                  2744\n",
              "Parda                   1054\n",
              "Preta                    291\n",
              "Amarela                  128\n",
              "Prefiro não informar      26\n",
              "Outra                     17\n",
              "Indígena                  11\n",
              "Name: count, dtype: int64"
            ],
            "text/html": [
              "<div>\n",
              "<style scoped>\n",
              "    .dataframe tbody tr th:only-of-type {\n",
              "        vertical-align: middle;\n",
              "    }\n",
              "\n",
              "    .dataframe tbody tr th {\n",
              "        vertical-align: top;\n",
              "    }\n",
              "\n",
              "    .dataframe thead th {\n",
              "        text-align: right;\n",
              "    }\n",
              "</style>\n",
              "<table border=\"1\" class=\"dataframe\">\n",
              "  <thead>\n",
              "    <tr style=\"text-align: right;\">\n",
              "      <th></th>\n",
              "      <th>count</th>\n",
              "    </tr>\n",
              "    <tr>\n",
              "      <th>COR/RACA/ETNIA</th>\n",
              "      <th></th>\n",
              "    </tr>\n",
              "  </thead>\n",
              "  <tbody>\n",
              "    <tr>\n",
              "      <th>Branca</th>\n",
              "      <td>2744</td>\n",
              "    </tr>\n",
              "    <tr>\n",
              "      <th>Parda</th>\n",
              "      <td>1054</td>\n",
              "    </tr>\n",
              "    <tr>\n",
              "      <th>Preta</th>\n",
              "      <td>291</td>\n",
              "    </tr>\n",
              "    <tr>\n",
              "      <th>Amarela</th>\n",
              "      <td>128</td>\n",
              "    </tr>\n",
              "    <tr>\n",
              "      <th>Prefiro não informar</th>\n",
              "      <td>26</td>\n",
              "    </tr>\n",
              "    <tr>\n",
              "      <th>Outra</th>\n",
              "      <td>17</td>\n",
              "    </tr>\n",
              "    <tr>\n",
              "      <th>Indígena</th>\n",
              "      <td>11</td>\n",
              "    </tr>\n",
              "  </tbody>\n",
              "</table>\n",
              "</div><br><label><b>dtype:</b> int64</label>"
            ]
          },
          "metadata": {},
          "execution_count": 170
        }
      ],
      "source": [
        "dados['COR/RACA/ETNIA'].value_counts()"
      ]
    },
    {
      "cell_type": "markdown",
      "metadata": {
        "id": "f9Y18lnb6uzj"
      },
      "source": [
        "Os seguintes valores possuem ou uma quantidade pequena de amostra ou não são dados relevantes:\n",
        "\n",
        "* Indígena;\n",
        "* Outra;\n",
        "* Prefiro não informar\n",
        "\n",
        "Por isso, serão eliminados da nossa análise.\n"
      ]
    },
    {
      "cell_type": "code",
      "execution_count": null,
      "metadata": {
        "id": "EYgGPCGoiWjM"
      },
      "outputs": [],
      "source": [
        "# lista de valores que serão eliminados\n",
        "lista_retirar = ['Indígena', 'Prefiro não informar', 'Outra']"
      ]
    },
    {
      "cell_type": "code",
      "execution_count": null,
      "metadata": {
        "id": "7mYAW30IjBLv"
      },
      "outputs": [],
      "source": [
        "dados = dados1[~dados1['COR/RACA/ETNIA'].isin(lista_retirar)]\n",
        "\n",
        "#isin selecionaria tudo que está na lista lista_retirar, mas colocamos \"~\" que nega tudo que está depois dele."
      ]
    },
    {
      "cell_type": "code",
      "execution_count": null,
      "metadata": {
        "colab": {
          "base_uri": "https://localhost:8080/",
          "height": 241
        },
        "id": "Y-l8Glfvja0N",
        "outputId": "83fc4f67-8bcf-4712-f039-f6f41982b5ee"
      },
      "outputs": [
        {
          "output_type": "execute_result",
          "data": {
            "text/plain": [
              "COR/RACA/ETNIA\n",
              "Branca     1805\n",
              "Parda       661\n",
              "Preta       181\n",
              "Amarela      85\n",
              "Name: count, dtype: int64"
            ],
            "text/html": [
              "<div>\n",
              "<style scoped>\n",
              "    .dataframe tbody tr th:only-of-type {\n",
              "        vertical-align: middle;\n",
              "    }\n",
              "\n",
              "    .dataframe tbody tr th {\n",
              "        vertical-align: top;\n",
              "    }\n",
              "\n",
              "    .dataframe thead th {\n",
              "        text-align: right;\n",
              "    }\n",
              "</style>\n",
              "<table border=\"1\" class=\"dataframe\">\n",
              "  <thead>\n",
              "    <tr style=\"text-align: right;\">\n",
              "      <th></th>\n",
              "      <th>count</th>\n",
              "    </tr>\n",
              "    <tr>\n",
              "      <th>COR/RACA/ETNIA</th>\n",
              "      <th></th>\n",
              "    </tr>\n",
              "  </thead>\n",
              "  <tbody>\n",
              "    <tr>\n",
              "      <th>Branca</th>\n",
              "      <td>1805</td>\n",
              "    </tr>\n",
              "    <tr>\n",
              "      <th>Parda</th>\n",
              "      <td>661</td>\n",
              "    </tr>\n",
              "    <tr>\n",
              "      <th>Preta</th>\n",
              "      <td>181</td>\n",
              "    </tr>\n",
              "    <tr>\n",
              "      <th>Amarela</th>\n",
              "      <td>85</td>\n",
              "    </tr>\n",
              "  </tbody>\n",
              "</table>\n",
              "</div><br><label><b>dtype:</b> int64</label>"
            ]
          },
          "metadata": {},
          "execution_count": 173
        }
      ],
      "source": [
        "dados['COR/RACA/ETNIA'].value_counts()"
      ]
    },
    {
      "cell_type": "markdown",
      "metadata": {
        "id": "H-x7xYdR7Xsl"
      },
      "source": [
        "Nessa parte, os valores categóricos serão transformados em númericos para serem utilizados no modelo."
      ]
    },
    {
      "cell_type": "code",
      "execution_count": null,
      "metadata": {
        "colab": {
          "base_uri": "https://localhost:8080/"
        },
        "id": "L-Uao-6zj4fT",
        "outputId": "ea6bede8-0b57-4e5d-d197-698117c95250"
      },
      "outputs": [
        {
          "output_type": "stream",
          "name": "stderr",
          "text": [
            "<ipython-input-174-6d2000917fde>:1: SettingWithCopyWarning: \n",
            "A value is trying to be set on a copy of a slice from a DataFrame.\n",
            "Try using .loc[row_indexer,col_indexer] = value instead\n",
            "\n",
            "See the caveats in the documentation: https://pandas.pydata.org/pandas-docs/stable/user_guide/indexing.html#returning-a-view-versus-a-copy\n",
            "  dados['NÃO BRANCA'] = dados['COR/RACA/ETNIA'].apply(lambda x: 1 if x!= 'Branca' else 0)\n"
          ]
        }
      ],
      "source": [
        "dados['NÃO BRANCA'] = dados['COR/RACA/ETNIA'].apply(lambda x: 1 if x!= 'Branca' else 0)\n",
        "\n",
        "#se for não branca, terá valor 1, caso contrário zero"
      ]
    },
    {
      "cell_type": "markdown",
      "metadata": {
        "id": "AR-ZDBMm7wkl"
      },
      "source": [
        "### Variável - Anos de Experiência"
      ]
    },
    {
      "cell_type": "code",
      "execution_count": null,
      "metadata": {
        "colab": {
          "base_uri": "https://localhost:8080/",
          "height": 335
        },
        "id": "v-L86Nb9kRco",
        "outputId": "16ece68d-6342-47b6-f8cc-9bba9f07438d"
      },
      "outputs": [
        {
          "output_type": "execute_result",
          "data": {
            "text/plain": [
              "QUANTO TEMPO DE EXPERIÊNCIA NA ÁREA DE DADOS VOCÊ TEM?\n",
              "de 1 a 2 anos                             743\n",
              "de 3 a 4 anos                             584\n",
              "de 4 a 6 anos                             416\n",
              "Menos de 1 ano                            353\n",
              "Mais de 10 anos                           277\n",
              "de 7 a 10 anos                            232\n",
              "Não tenho experiência na área de dados    127\n",
              "Name: count, dtype: int64"
            ],
            "text/html": [
              "<div>\n",
              "<style scoped>\n",
              "    .dataframe tbody tr th:only-of-type {\n",
              "        vertical-align: middle;\n",
              "    }\n",
              "\n",
              "    .dataframe tbody tr th {\n",
              "        vertical-align: top;\n",
              "    }\n",
              "\n",
              "    .dataframe thead th {\n",
              "        text-align: right;\n",
              "    }\n",
              "</style>\n",
              "<table border=\"1\" class=\"dataframe\">\n",
              "  <thead>\n",
              "    <tr style=\"text-align: right;\">\n",
              "      <th></th>\n",
              "      <th>count</th>\n",
              "    </tr>\n",
              "    <tr>\n",
              "      <th>QUANTO TEMPO DE EXPERIÊNCIA NA ÁREA DE DADOS VOCÊ TEM?</th>\n",
              "      <th></th>\n",
              "    </tr>\n",
              "  </thead>\n",
              "  <tbody>\n",
              "    <tr>\n",
              "      <th>de 1 a 2 anos</th>\n",
              "      <td>743</td>\n",
              "    </tr>\n",
              "    <tr>\n",
              "      <th>de 3 a 4 anos</th>\n",
              "      <td>584</td>\n",
              "    </tr>\n",
              "    <tr>\n",
              "      <th>de 4 a 6 anos</th>\n",
              "      <td>416</td>\n",
              "    </tr>\n",
              "    <tr>\n",
              "      <th>Menos de 1 ano</th>\n",
              "      <td>353</td>\n",
              "    </tr>\n",
              "    <tr>\n",
              "      <th>Mais de 10 anos</th>\n",
              "      <td>277</td>\n",
              "    </tr>\n",
              "    <tr>\n",
              "      <th>de 7 a 10 anos</th>\n",
              "      <td>232</td>\n",
              "    </tr>\n",
              "    <tr>\n",
              "      <th>Não tenho experiência na área de dados</th>\n",
              "      <td>127</td>\n",
              "    </tr>\n",
              "  </tbody>\n",
              "</table>\n",
              "</div><br><label><b>dtype:</b> int64</label>"
            ]
          },
          "metadata": {},
          "execution_count": 175
        }
      ],
      "source": [
        "dados['QUANTO TEMPO DE EXPERIÊNCIA NA ÁREA DE DADOS VOCÊ TEM?'].value_counts()"
      ]
    },
    {
      "cell_type": "markdown",
      "metadata": {
        "id": "JtKmTBh471RU"
      },
      "source": [
        "Como os dados são categóricos, vamos transformar em númericos:"
      ]
    },
    {
      "cell_type": "code",
      "execution_count": null,
      "metadata": {
        "colab": {
          "base_uri": "https://localhost:8080/"
        },
        "id": "hOtNsI_JkpwC",
        "outputId": "bf65e96b-5617-4abd-9e3b-6a60d1f58248"
      },
      "outputs": [
        {
          "output_type": "stream",
          "name": "stderr",
          "text": [
            "<ipython-input-176-d634df2928bd>:1: SettingWithCopyWarning: \n",
            "A value is trying to be set on a copy of a slice from a DataFrame.\n",
            "Try using .loc[row_indexer,col_indexer] = value instead\n",
            "\n",
            "See the caveats in the documentation: https://pandas.pydata.org/pandas-docs/stable/user_guide/indexing.html#returning-a-view-versus-a-copy\n",
            "  dados['TEMPO_EXPERIENCIA'] = dados['QUANTO TEMPO DE EXPERIÊNCIA NA ÁREA DE DADOS VOCÊ TEM?'].str.extract('(\\d+)')\n"
          ]
        }
      ],
      "source": [
        "dados['TEMPO_EXPERIENCIA'] = dados['QUANTO TEMPO DE EXPERIÊNCIA NA ÁREA DE DADOS VOCÊ TEM?'].str.extract('(\\d+)')"
      ]
    },
    {
      "cell_type": "code",
      "execution_count": null,
      "metadata": {
        "colab": {
          "base_uri": "https://localhost:8080/",
          "height": 272
        },
        "id": "F2vdnAmrl8zY",
        "outputId": "894af9ae-0522-4347-c40d-155e5e5b4cec"
      },
      "outputs": [
        {
          "output_type": "execute_result",
          "data": {
            "text/plain": [
              "TEMPO_EXPERIENCIA\n",
              "1     1096\n",
              "3      584\n",
              "4      416\n",
              "10     277\n",
              "7      232\n",
              "Name: count, dtype: int64"
            ],
            "text/html": [
              "<div>\n",
              "<style scoped>\n",
              "    .dataframe tbody tr th:only-of-type {\n",
              "        vertical-align: middle;\n",
              "    }\n",
              "\n",
              "    .dataframe tbody tr th {\n",
              "        vertical-align: top;\n",
              "    }\n",
              "\n",
              "    .dataframe thead th {\n",
              "        text-align: right;\n",
              "    }\n",
              "</style>\n",
              "<table border=\"1\" class=\"dataframe\">\n",
              "  <thead>\n",
              "    <tr style=\"text-align: right;\">\n",
              "      <th></th>\n",
              "      <th>count</th>\n",
              "    </tr>\n",
              "    <tr>\n",
              "      <th>TEMPO_EXPERIENCIA</th>\n",
              "      <th></th>\n",
              "    </tr>\n",
              "  </thead>\n",
              "  <tbody>\n",
              "    <tr>\n",
              "      <th>1</th>\n",
              "      <td>1096</td>\n",
              "    </tr>\n",
              "    <tr>\n",
              "      <th>3</th>\n",
              "      <td>584</td>\n",
              "    </tr>\n",
              "    <tr>\n",
              "      <th>4</th>\n",
              "      <td>416</td>\n",
              "    </tr>\n",
              "    <tr>\n",
              "      <th>10</th>\n",
              "      <td>277</td>\n",
              "    </tr>\n",
              "    <tr>\n",
              "      <th>7</th>\n",
              "      <td>232</td>\n",
              "    </tr>\n",
              "  </tbody>\n",
              "</table>\n",
              "</div><br><label><b>dtype:</b> int64</label>"
            ]
          },
          "metadata": {},
          "execution_count": 177
        }
      ],
      "source": [
        "dados['TEMPO_EXPERIENCIA'].value_counts()"
      ]
    },
    {
      "cell_type": "markdown",
      "metadata": {
        "id": "0Vf-Bj7579tr"
      },
      "source": [
        "### Variável - Nº de Funcionários"
      ]
    },
    {
      "cell_type": "code",
      "execution_count": null,
      "metadata": {
        "colab": {
          "base_uri": "https://localhost:8080/",
          "height": 366
        },
        "id": "4PxZ5lqJ34Tv",
        "outputId": "4053a74d-e65a-4187-c683-12a8118acad8"
      },
      "outputs": [
        {
          "output_type": "execute_result",
          "data": {
            "text/plain": [
              "NUMERO DE FUNCIONARIOS\n",
              "Acima de 3.000      1313\n",
              "de 101 a 500         503\n",
              "de 1.001 a 3.000     368\n",
              "de 501 a 1.000       248\n",
              "de 51 a 100          146\n",
              "de 11 a 50           112\n",
              "de 6 a 10             24\n",
              "de 1 a 5              18\n",
              "Name: count, dtype: int64"
            ],
            "text/html": [
              "<div>\n",
              "<style scoped>\n",
              "    .dataframe tbody tr th:only-of-type {\n",
              "        vertical-align: middle;\n",
              "    }\n",
              "\n",
              "    .dataframe tbody tr th {\n",
              "        vertical-align: top;\n",
              "    }\n",
              "\n",
              "    .dataframe thead th {\n",
              "        text-align: right;\n",
              "    }\n",
              "</style>\n",
              "<table border=\"1\" class=\"dataframe\">\n",
              "  <thead>\n",
              "    <tr style=\"text-align: right;\">\n",
              "      <th></th>\n",
              "      <th>count</th>\n",
              "    </tr>\n",
              "    <tr>\n",
              "      <th>NUMERO DE FUNCIONARIOS</th>\n",
              "      <th></th>\n",
              "    </tr>\n",
              "  </thead>\n",
              "  <tbody>\n",
              "    <tr>\n",
              "      <th>Acima de 3.000</th>\n",
              "      <td>1313</td>\n",
              "    </tr>\n",
              "    <tr>\n",
              "      <th>de 101 a 500</th>\n",
              "      <td>503</td>\n",
              "    </tr>\n",
              "    <tr>\n",
              "      <th>de 1.001 a 3.000</th>\n",
              "      <td>368</td>\n",
              "    </tr>\n",
              "    <tr>\n",
              "      <th>de 501 a 1.000</th>\n",
              "      <td>248</td>\n",
              "    </tr>\n",
              "    <tr>\n",
              "      <th>de 51 a 100</th>\n",
              "      <td>146</td>\n",
              "    </tr>\n",
              "    <tr>\n",
              "      <th>de 11 a 50</th>\n",
              "      <td>112</td>\n",
              "    </tr>\n",
              "    <tr>\n",
              "      <th>de 6 a 10</th>\n",
              "      <td>24</td>\n",
              "    </tr>\n",
              "    <tr>\n",
              "      <th>de 1 a 5</th>\n",
              "      <td>18</td>\n",
              "    </tr>\n",
              "  </tbody>\n",
              "</table>\n",
              "</div><br><label><b>dtype:</b> int64</label>"
            ]
          },
          "metadata": {},
          "execution_count": 178
        }
      ],
      "source": [
        "dados['NUMERO DE FUNCIONARIOS'].value_counts()"
      ]
    },
    {
      "cell_type": "markdown",
      "metadata": {
        "id": "up8w4GG68GMB"
      },
      "source": [
        "Assim como a variável Tempo de Experiência, a variavel nº de funcionários precisa ser transformada em uma variavel númerica para ser utilizada no modelo.\n",
        "\n",
        "Porém, é necessário susbstituir os \".\" dos números por \"\":"
      ]
    },
    {
      "cell_type": "code",
      "execution_count": null,
      "metadata": {
        "colab": {
          "base_uri": "https://localhost:8080/"
        },
        "id": "fsA5yN6f4YJc",
        "outputId": "90c9df1c-1080-402c-d9ed-4284c64166af"
      },
      "outputs": [
        {
          "output_type": "stream",
          "name": "stderr",
          "text": [
            "<ipython-input-179-1abf421f21bd>:2: SettingWithCopyWarning: \n",
            "A value is trying to be set on a copy of a slice from a DataFrame.\n",
            "Try using .loc[row_indexer,col_indexer] = value instead\n",
            "\n",
            "See the caveats in the documentation: https://pandas.pydata.org/pandas-docs/stable/user_guide/indexing.html#returning-a-view-versus-a-copy\n",
            "  dados['NUMERO DE FUNCIONARIOS'] = dados['NUMERO DE FUNCIONARIOS'].str.replace('.', '')\n"
          ]
        }
      ],
      "source": [
        "# substituindo os pontos dos números por nada\n",
        "dados['NUMERO DE FUNCIONARIOS'] = dados['NUMERO DE FUNCIONARIOS'].str.replace('.', '')"
      ]
    },
    {
      "cell_type": "code",
      "execution_count": null,
      "metadata": {
        "colab": {
          "base_uri": "https://localhost:8080/"
        },
        "id": "6g8kXCzn4cNb",
        "outputId": "b7c922f4-272b-4292-dbf2-a746f4810ca9"
      },
      "outputs": [
        {
          "output_type": "stream",
          "name": "stderr",
          "text": [
            "<ipython-input-180-0a3f544ee080>:1: SettingWithCopyWarning: \n",
            "A value is trying to be set on a copy of a slice from a DataFrame.\n",
            "Try using .loc[row_indexer,col_indexer] = value instead\n",
            "\n",
            "See the caveats in the documentation: https://pandas.pydata.org/pandas-docs/stable/user_guide/indexing.html#returning-a-view-versus-a-copy\n",
            "  dados['NUMERO DE FUNCIONARIOS_2'] = dados['NUMERO DE FUNCIONARIOS'].str.extract('(\\d+)')\n"
          ]
        }
      ],
      "source": [
        "dados['NUMERO DE FUNCIONARIOS_2'] = dados['NUMERO DE FUNCIONARIOS'].str.extract('(\\d+)')"
      ]
    },
    {
      "cell_type": "code",
      "execution_count": null,
      "metadata": {
        "colab": {
          "base_uri": "https://localhost:8080/",
          "height": 366
        },
        "id": "_thyKhpq5Fhn",
        "outputId": "666ce679-b234-4ab5-cde6-f92e902cf15c"
      },
      "outputs": [
        {
          "output_type": "execute_result",
          "data": {
            "text/plain": [
              "NUMERO DE FUNCIONARIOS_2\n",
              "3000    1313\n",
              "101      503\n",
              "1001     368\n",
              "501      248\n",
              "51       146\n",
              "11       112\n",
              "6         24\n",
              "1         18\n",
              "Name: count, dtype: int64"
            ],
            "text/html": [
              "<div>\n",
              "<style scoped>\n",
              "    .dataframe tbody tr th:only-of-type {\n",
              "        vertical-align: middle;\n",
              "    }\n",
              "\n",
              "    .dataframe tbody tr th {\n",
              "        vertical-align: top;\n",
              "    }\n",
              "\n",
              "    .dataframe thead th {\n",
              "        text-align: right;\n",
              "    }\n",
              "</style>\n",
              "<table border=\"1\" class=\"dataframe\">\n",
              "  <thead>\n",
              "    <tr style=\"text-align: right;\">\n",
              "      <th></th>\n",
              "      <th>count</th>\n",
              "    </tr>\n",
              "    <tr>\n",
              "      <th>NUMERO DE FUNCIONARIOS_2</th>\n",
              "      <th></th>\n",
              "    </tr>\n",
              "  </thead>\n",
              "  <tbody>\n",
              "    <tr>\n",
              "      <th>3000</th>\n",
              "      <td>1313</td>\n",
              "    </tr>\n",
              "    <tr>\n",
              "      <th>101</th>\n",
              "      <td>503</td>\n",
              "    </tr>\n",
              "    <tr>\n",
              "      <th>1001</th>\n",
              "      <td>368</td>\n",
              "    </tr>\n",
              "    <tr>\n",
              "      <th>501</th>\n",
              "      <td>248</td>\n",
              "    </tr>\n",
              "    <tr>\n",
              "      <th>51</th>\n",
              "      <td>146</td>\n",
              "    </tr>\n",
              "    <tr>\n",
              "      <th>11</th>\n",
              "      <td>112</td>\n",
              "    </tr>\n",
              "    <tr>\n",
              "      <th>6</th>\n",
              "      <td>24</td>\n",
              "    </tr>\n",
              "    <tr>\n",
              "      <th>1</th>\n",
              "      <td>18</td>\n",
              "    </tr>\n",
              "  </tbody>\n",
              "</table>\n",
              "</div><br><label><b>dtype:</b> int64</label>"
            ]
          },
          "metadata": {},
          "execution_count": 181
        }
      ],
      "source": [
        "dados['NUMERO DE FUNCIONARIOS_2'].value_counts()"
      ]
    },
    {
      "cell_type": "markdown",
      "metadata": {
        "id": "WRg5N59T5jPj"
      },
      "source": [
        "### Verificando nulos"
      ]
    },
    {
      "cell_type": "code",
      "execution_count": null,
      "metadata": {
        "colab": {
          "base_uri": "https://localhost:8080/"
        },
        "id": "SamSTMV-54ei",
        "outputId": "9c5048ff-b410-4ef8-db24-19ab2a73ace2"
      },
      "outputs": [
        {
          "output_type": "execute_result",
          "data": {
            "text/plain": [
              "0"
            ]
          },
          "metadata": {},
          "execution_count": 182
        }
      ],
      "source": [
        "# coluna numero de funcionarios_2\n",
        "dados['NUMERO DE FUNCIONARIOS_2'].isnull().sum()"
      ]
    },
    {
      "cell_type": "code",
      "execution_count": null,
      "metadata": {
        "colab": {
          "base_uri": "https://localhost:8080/"
        },
        "id": "B1ndECTA6Ik-",
        "outputId": "6e20aa6e-5eb5-49b2-8f00-b30cac831dc3"
      },
      "outputs": [
        {
          "output_type": "execute_result",
          "data": {
            "text/plain": [
              "127"
            ]
          },
          "metadata": {},
          "execution_count": 183
        }
      ],
      "source": [
        "#coluna Tempo de Experiencia\n",
        "dados['TEMPO_EXPERIENCIA'].isnull().sum()"
      ]
    },
    {
      "cell_type": "code",
      "execution_count": null,
      "metadata": {
        "colab": {
          "base_uri": "https://localhost:8080/"
        },
        "id": "Il-KrJHo9D-J",
        "outputId": "8d1fc051-8552-4ae3-9306-b6fafb2f61e8"
      },
      "outputs": [
        {
          "output_type": "stream",
          "name": "stderr",
          "text": [
            "<ipython-input-184-2d1314fbf7db>:2: SettingWithCopyWarning: \n",
            "A value is trying to be set on a copy of a slice from a DataFrame.\n",
            "Try using .loc[row_indexer,col_indexer] = value instead\n",
            "\n",
            "See the caveats in the documentation: https://pandas.pydata.org/pandas-docs/stable/user_guide/indexing.html#returning-a-view-versus-a-copy\n",
            "  dados['TEMPO_EXPERIENCIA'] = dados['TEMPO_EXPERIENCIA'].fillna(0)\n"
          ]
        }
      ],
      "source": [
        "# retirando os valores nulos da coluna Tempo_experiencia\n",
        "dados['TEMPO_EXPERIENCIA'] = dados['TEMPO_EXPERIENCIA'].fillna(0)"
      ]
    },
    {
      "cell_type": "markdown",
      "metadata": {
        "id": "bWBIvorn-Xlh"
      },
      "source": [
        "### Variável Insatisfação"
      ]
    },
    {
      "cell_type": "code",
      "execution_count": null,
      "metadata": {
        "colab": {
          "base_uri": "https://localhost:8080/"
        },
        "id": "qRDEVGUc9xpS",
        "outputId": "7dd5bb4a-580f-40d1-c472-ed468e7a2883"
      },
      "outputs": [
        {
          "output_type": "stream",
          "name": "stdout",
          "text": [
            "<class 'pandas.core.frame.DataFrame'>\n",
            "Index: 2732 entries, 1 to 4270\n",
            "Data columns (total 49 columns):\n",
            " #   Column                                                                                                                     Non-Null Count  Dtype  \n",
            "---  ------                                                                                                                     --------------  -----  \n",
            " 0   ID                                                                                                                         2732 non-null   object \n",
            " 1   IDADE                                                                                                                      2732 non-null   float64\n",
            " 2   FAIXA IDADE                                                                                                                2732 non-null   object \n",
            " 3   GENERO                                                                                                                     2732 non-null   object \n",
            " 4   COR/RACA/ETNIA                                                                                                             2732 non-null   object \n",
            " 5   PCD                                                                                                                        2732 non-null   object \n",
            " 6   EXPERIENCIA_PROFISSIONAL_PREJUDICADA                                                                                       1380 non-null   object \n",
            " 7   ASPECTOS_PREJUDICADOS                                                                                                      530 non-null    object \n",
            " 8   VIVE_NO_BRASIL                                                                                                             2732 non-null   bool   \n",
            " 9   ESTADO ONDE MORA                                                                                                           2708 non-null   object \n",
            " 10  UF ONDE MORA                                                                                                               2708 non-null   object \n",
            " 11  REGIAO ONDE MORA                                                                                                           2715 non-null   object \n",
            " 12  MUDOU DE ESTADO?                                                                                                           2715 non-null   float64\n",
            " 13  REGIAO DE ORIGEM                                                                                                           493 non-null    object \n",
            " 14  NIVEL DE ENSINO                                                                                                            2732 non-null   object \n",
            " 15  ÁREA DE FORMAÇÃO                                                                                                           2676 non-null   object \n",
            " 16  QUAL SUA SITUAÇÃO ATUAL DE TRABALHO?                                                                                       2732 non-null   object \n",
            " 17  SETOR                                                                                                                      2732 non-null   object \n",
            " 18  NUMERO DE FUNCIONARIOS                                                                                                     2732 non-null   object \n",
            " 19  GESTOR?                                                                                                                    2732 non-null   float64\n",
            " 20  CARGO COMO GESTOR                                                                                                          464 non-null    object \n",
            " 21  CARGO ATUAL                                                                                                                2268 non-null   object \n",
            " 22  FAIXA SALARIAL                                                                                                             2732 non-null   object \n",
            " 23  QUANTO TEMPO DE EXPERIÊNCIA NA ÁREA DE DADOS VOCÊ TEM?                                                                     2732 non-null   object \n",
            " 24  QUANTO TEMPO DE EXPERIÊNCIA NA ÁREA DE TI/ENGENHARIA DE SOFTWARE VOCÊ TEVE ANTES DE COMEÇAR A TRABALHAR NA ÁREA DE DADOS?  2732 non-null   object \n",
            " 25  SALARIO                                                                                                                    2732 non-null   float64\n",
            " 26  NOVO_NIVEL                                                                                                                 2732 non-null   object \n",
            " 27  NIVEL_Júnior                                                                                                               2732 non-null   bool   \n",
            " 28  NIVEL_Pleno                                                                                                                2732 non-null   bool   \n",
            " 29  NIVEL_Sênior                                                                                                               2732 non-null   bool   \n",
            " 30  GEARACAO                                                                                                                   2732 non-null   object \n",
            " 31  Quanto tempo de experiência na área de dados você tem?                                                                     2732 non-null   object \n",
            " 32  Quanto tempo de experiência na área de TI/Engenharia de Software você teve antes de começar a trabalhar na área de dados?  2732 non-null   object \n",
            " 33  Você está satisfeito na sua empresa atual?                                                                                 2732 non-null   float64\n",
            " 34  Qual o principal motivo da sua insatisfação com a empresa atual?                                                           661 non-null    object \n",
            " 35  Você participou de entrevistas de emprego nos últimos 6 meses?                                                             2732 non-null   object \n",
            " 36  Você pretende mudar de emprego nos próximos 6 meses?                                                                       2732 non-null   object \n",
            " 37  Quais os principais critérios que você leva em consideração no momento de decidir onde trabalhar?                          2732 non-null   object \n",
            " 38  Atualmente qual a sua forma de trabalho?                                                                                   2732 non-null   object \n",
            " 39  Qual a forma de trabalho ideal para você?                                                                                  2732 non-null   object \n",
            " 40  Caso sua empresa decida pelo modelo 100% presencial qual será sua atitude?                                                 2732 non-null   object \n",
            " 41  Sua empresa passu por Layoff em 2022?                                                                                      2732 non-null   object \n",
            " 42  Atuacao                                                                                                                    2732 non-null   object \n",
            " 43  Quais das linguagens listadas abaixo você utiliza no trabalho?                                                             2268 non-null   object \n",
            " 44  EM_BUSCA                                                                                                                   2732 non-null   float64\n",
            " 45  ABERTO_OPORTUNIDADES                                                                                                       2732 non-null   float64\n",
            " 46  NÃO BRANCA                                                                                                                 2732 non-null   int64  \n",
            " 47  TEMPO_EXPERIENCIA                                                                                                          2732 non-null   object \n",
            " 48  NUMERO DE FUNCIONARIOS_2                                                                                                   2732 non-null   object \n",
            "dtypes: bool(4), float64(7), int64(1), object(37)\n",
            "memory usage: 992.5+ KB\n"
          ]
        }
      ],
      "source": [
        "dados.info()"
      ]
    },
    {
      "cell_type": "code",
      "execution_count": null,
      "metadata": {
        "colab": {
          "base_uri": "https://localhost:8080/",
          "height": 489
        },
        "id": "S9L2oW5C-Vgr",
        "outputId": "c442ed29-99d2-4464-c682-2dcc0d507c70"
      },
      "outputs": [
        {
          "output_type": "execute_result",
          "data": {
            "text/plain": [
              "Qual o principal motivo da sua insatisfação com a empresa atual?\n",
              "Gostaria de trabalhar em em outra área de atuação                                                                                                           69\n",
              "Salário atual não corresponde ao mercado                                                                                                                    53\n",
              "Falta de oportunidade de crescimento no emprego atual                                                                                                       46\n",
              "Falta de maturidade analítica na empresa                                                                                                                    45\n",
              "Falta de oportunidade de crescimento no emprego atual, Salário atual não corresponde ao mercado, Falta de maturidade analítica na empresa                   26\n",
              "                                                                                                                                                            ..\n",
              "Trabalho explora pouco minhas habilidades e me dá poucas oportunidades de atuação distintas                                                                  1\n",
              "Quero trabalhar de casa                                                                                                                                      1\n",
              "Não tenho uma boa relação com meu líder/gestor, Gostaria de trabalhar em em outra área de atuação                                                            1\n",
              "Salário atual não corresponde ao mercado, Gostaria de trabalhar em em outra área de atuação, Carga horária de trabalho                                       1\n",
              "Não tenho uma boa relação com meu líder/gestor, Falta de oportunidade de crescimento no emprego atual, Gostaria de trabalhar em em outra área de atuação     1\n",
              "Name: count, Length: 174, dtype: int64"
            ],
            "text/html": [
              "<div>\n",
              "<style scoped>\n",
              "    .dataframe tbody tr th:only-of-type {\n",
              "        vertical-align: middle;\n",
              "    }\n",
              "\n",
              "    .dataframe tbody tr th {\n",
              "        vertical-align: top;\n",
              "    }\n",
              "\n",
              "    .dataframe thead th {\n",
              "        text-align: right;\n",
              "    }\n",
              "</style>\n",
              "<table border=\"1\" class=\"dataframe\">\n",
              "  <thead>\n",
              "    <tr style=\"text-align: right;\">\n",
              "      <th></th>\n",
              "      <th>count</th>\n",
              "    </tr>\n",
              "    <tr>\n",
              "      <th>Qual o principal motivo da sua insatisfação com a empresa atual?</th>\n",
              "      <th></th>\n",
              "    </tr>\n",
              "  </thead>\n",
              "  <tbody>\n",
              "    <tr>\n",
              "      <th>Gostaria de trabalhar em em outra área de atuação</th>\n",
              "      <td>69</td>\n",
              "    </tr>\n",
              "    <tr>\n",
              "      <th>Salário atual não corresponde ao mercado</th>\n",
              "      <td>53</td>\n",
              "    </tr>\n",
              "    <tr>\n",
              "      <th>Falta de oportunidade de crescimento no emprego atual</th>\n",
              "      <td>46</td>\n",
              "    </tr>\n",
              "    <tr>\n",
              "      <th>Falta de maturidade analítica na empresa</th>\n",
              "      <td>45</td>\n",
              "    </tr>\n",
              "    <tr>\n",
              "      <th>Falta de oportunidade de crescimento no emprego atual, Salário atual não corresponde ao mercado, Falta de maturidade analítica na empresa</th>\n",
              "      <td>26</td>\n",
              "    </tr>\n",
              "    <tr>\n",
              "      <th>...</th>\n",
              "      <td>...</td>\n",
              "    </tr>\n",
              "    <tr>\n",
              "      <th>Trabalho explora pouco minhas habilidades e me dá poucas oportunidades de atuação distintas</th>\n",
              "      <td>1</td>\n",
              "    </tr>\n",
              "    <tr>\n",
              "      <th>Quero trabalhar de casa</th>\n",
              "      <td>1</td>\n",
              "    </tr>\n",
              "    <tr>\n",
              "      <th>Não tenho uma boa relação com meu líder/gestor, Gostaria de trabalhar em em outra área de atuação</th>\n",
              "      <td>1</td>\n",
              "    </tr>\n",
              "    <tr>\n",
              "      <th>Salário atual não corresponde ao mercado, Gostaria de trabalhar em em outra área de atuação, Carga horária de trabalho</th>\n",
              "      <td>1</td>\n",
              "    </tr>\n",
              "    <tr>\n",
              "      <th>Não tenho uma boa relação com meu líder/gestor, Falta de oportunidade de crescimento no emprego atual, Gostaria de trabalhar em em outra área de atuação</th>\n",
              "      <td>1</td>\n",
              "    </tr>\n",
              "  </tbody>\n",
              "</table>\n",
              "<p>174 rows × 1 columns</p>\n",
              "</div><br><label><b>dtype:</b> int64</label>"
            ]
          },
          "metadata": {},
          "execution_count": 186
        }
      ],
      "source": [
        "dados['Qual o principal motivo da sua insatisfação com a empresa atual?'].value_counts()"
      ]
    },
    {
      "cell_type": "markdown",
      "metadata": {
        "id": "AACVz15J_RVS"
      },
      "source": [
        "Vamos colocar o valor 1 para toda a frase que contiver a palavra 'Salário' no meio da frase"
      ]
    },
    {
      "cell_type": "code",
      "execution_count": null,
      "metadata": {
        "colab": {
          "base_uri": "https://localhost:8080/"
        },
        "id": "LHIeEHSDRGJ-",
        "outputId": "3952f5bb-db0b-4da0-e657-0e04ec054418"
      },
      "outputs": [
        {
          "output_type": "execute_result",
          "data": {
            "text/plain": [
              "2071"
            ]
          },
          "metadata": {},
          "execution_count": 187
        }
      ],
      "source": [
        "dados['Qual o principal motivo da sua insatisfação com a empresa atual?'].isnull().sum()"
      ]
    },
    {
      "cell_type": "code",
      "execution_count": null,
      "metadata": {
        "colab": {
          "base_uri": "https://localhost:8080/"
        },
        "id": "a0QTVAXaJRpw",
        "outputId": "43c1e1ef-329c-474f-81b4-cdce581b3b0d"
      },
      "outputs": [
        {
          "output_type": "stream",
          "name": "stderr",
          "text": [
            "<ipython-input-188-023c81c5816f>:2: SettingWithCopyWarning: \n",
            "A value is trying to be set on a copy of a slice from a DataFrame.\n",
            "Try using .loc[row_indexer,col_indexer] = value instead\n",
            "\n",
            "See the caveats in the documentation: https://pandas.pydata.org/pandas-docs/stable/user_guide/indexing.html#returning-a-view-versus-a-copy\n",
            "  dados['INSATISFACAO_SALARIO'] = dados.loc[dados['Qual o principal motivo da sua insatisfação com a empresa atual?'].notnull(), 'Qual o principal motivo da sua insatisfação com a empresa atual?'].apply(lambda x: 1 if 'Salário' in x else 0)\n"
          ]
        }
      ],
      "source": [
        "# forma 1\n",
        "dados['INSATISFACAO_SALARIO'] = dados.loc[dados['Qual o principal motivo da sua insatisfação com a empresa atual?'].notnull(), 'Qual o principal motivo da sua insatisfação com a empresa atual?'].apply(lambda x: 1 if 'Salário' in x else 0)\n",
        "\n",
        "# Essa forma, excluiria os valores nulos da coluna"
      ]
    },
    {
      "cell_type": "code",
      "execution_count": null,
      "metadata": {
        "colab": {
          "base_uri": "https://localhost:8080/"
        },
        "id": "PcRYWWDDPpfz",
        "outputId": "319284a7-381a-4a80-d19f-4a4122b29944"
      },
      "outputs": [
        {
          "output_type": "stream",
          "name": "stderr",
          "text": [
            "<ipython-input-189-73e327aaa042>:1: SettingWithCopyWarning: \n",
            "A value is trying to be set on a copy of a slice from a DataFrame.\n",
            "Try using .loc[row_indexer,col_indexer] = value instead\n",
            "\n",
            "See the caveats in the documentation: https://pandas.pydata.org/pandas-docs/stable/user_guide/indexing.html#returning-a-view-versus-a-copy\n",
            "  dados['INSATISFACAO_SALARIO'] = 0\n"
          ]
        }
      ],
      "source": [
        "dados['INSATISFACAO_SALARIO'] = 0"
      ]
    },
    {
      "cell_type": "code",
      "execution_count": null,
      "metadata": {
        "id": "iDJnJKXiPvSP"
      },
      "outputs": [],
      "source": [
        "dados.loc[dados['Qual o principal motivo da sua insatisfação com a empresa atual?'].notnull(), 'INSATISFACAO_SALARIO'] = dados.loc[dados['Qual o principal motivo da sua insatisfação com a empresa atual?'].notnull(), 'Qual o principal motivo da sua insatisfação com a empresa atual?'].apply(lambda x: 1 if 'Salário' in x else 0)"
      ]
    },
    {
      "cell_type": "code",
      "execution_count": null,
      "metadata": {
        "colab": {
          "base_uri": "https://localhost:8080/",
          "height": 178
        },
        "id": "3bnKChc5NzYw",
        "outputId": "687c9c6a-5328-4237-c745-ea0650dfd9f5"
      },
      "outputs": [
        {
          "output_type": "execute_result",
          "data": {
            "text/plain": [
              "INSATISFACAO_SALARIO\n",
              "0    2453\n",
              "1     279\n",
              "Name: count, dtype: int64"
            ],
            "text/html": [
              "<div>\n",
              "<style scoped>\n",
              "    .dataframe tbody tr th:only-of-type {\n",
              "        vertical-align: middle;\n",
              "    }\n",
              "\n",
              "    .dataframe tbody tr th {\n",
              "        vertical-align: top;\n",
              "    }\n",
              "\n",
              "    .dataframe thead th {\n",
              "        text-align: right;\n",
              "    }\n",
              "</style>\n",
              "<table border=\"1\" class=\"dataframe\">\n",
              "  <thead>\n",
              "    <tr style=\"text-align: right;\">\n",
              "      <th></th>\n",
              "      <th>count</th>\n",
              "    </tr>\n",
              "    <tr>\n",
              "      <th>INSATISFACAO_SALARIO</th>\n",
              "      <th></th>\n",
              "    </tr>\n",
              "  </thead>\n",
              "  <tbody>\n",
              "    <tr>\n",
              "      <th>0</th>\n",
              "      <td>2453</td>\n",
              "    </tr>\n",
              "    <tr>\n",
              "      <th>1</th>\n",
              "      <td>279</td>\n",
              "    </tr>\n",
              "  </tbody>\n",
              "</table>\n",
              "</div><br><label><b>dtype:</b> int64</label>"
            ]
          },
          "metadata": {},
          "execution_count": 191
        }
      ],
      "source": [
        "dados['INSATISFACAO_SALARIO'].value_counts()\n"
      ]
    },
    {
      "cell_type": "markdown",
      "source": [
        "### Variável - Nível de ensino"
      ],
      "metadata": {
        "id": "sLM8KTQANCBw"
      }
    },
    {
      "cell_type": "markdown",
      "source": [
        "Dando pontuações para as variáveis de ensino de 0 (Não tenho graduação formal) a 5 (doutorado ou PHD)"
      ],
      "metadata": {
        "id": "6jzXPWREOTaY"
      }
    },
    {
      "cell_type": "code",
      "execution_count": null,
      "metadata": {
        "id": "VIDs0gPqO7zu",
        "colab": {
          "base_uri": "https://localhost:8080/",
          "height": 335
        },
        "outputId": "0423d5da-56ad-4702-a8c3-5ee09eb244d6"
      },
      "outputs": [
        {
          "output_type": "execute_result",
          "data": {
            "text/plain": [
              "NIVEL DE ENSINO\n",
              "Graduação/Bacharelado         1024\n",
              "Pós-graduação                  975\n",
              "Mestrado                       306\n",
              "Estudante de Graduação         271\n",
              "Doutorado ou Phd               100\n",
              "Não tenho graduação formal      52\n",
              "Prefiro não informar             4\n",
              "Name: count, dtype: int64"
            ],
            "text/html": [
              "<div>\n",
              "<style scoped>\n",
              "    .dataframe tbody tr th:only-of-type {\n",
              "        vertical-align: middle;\n",
              "    }\n",
              "\n",
              "    .dataframe tbody tr th {\n",
              "        vertical-align: top;\n",
              "    }\n",
              "\n",
              "    .dataframe thead th {\n",
              "        text-align: right;\n",
              "    }\n",
              "</style>\n",
              "<table border=\"1\" class=\"dataframe\">\n",
              "  <thead>\n",
              "    <tr style=\"text-align: right;\">\n",
              "      <th></th>\n",
              "      <th>count</th>\n",
              "    </tr>\n",
              "    <tr>\n",
              "      <th>NIVEL DE ENSINO</th>\n",
              "      <th></th>\n",
              "    </tr>\n",
              "  </thead>\n",
              "  <tbody>\n",
              "    <tr>\n",
              "      <th>Graduação/Bacharelado</th>\n",
              "      <td>1024</td>\n",
              "    </tr>\n",
              "    <tr>\n",
              "      <th>Pós-graduação</th>\n",
              "      <td>975</td>\n",
              "    </tr>\n",
              "    <tr>\n",
              "      <th>Mestrado</th>\n",
              "      <td>306</td>\n",
              "    </tr>\n",
              "    <tr>\n",
              "      <th>Estudante de Graduação</th>\n",
              "      <td>271</td>\n",
              "    </tr>\n",
              "    <tr>\n",
              "      <th>Doutorado ou Phd</th>\n",
              "      <td>100</td>\n",
              "    </tr>\n",
              "    <tr>\n",
              "      <th>Não tenho graduação formal</th>\n",
              "      <td>52</td>\n",
              "    </tr>\n",
              "    <tr>\n",
              "      <th>Prefiro não informar</th>\n",
              "      <td>4</td>\n",
              "    </tr>\n",
              "  </tbody>\n",
              "</table>\n",
              "</div><br><label><b>dtype:</b> int64</label>"
            ]
          },
          "metadata": {},
          "execution_count": 192
        }
      ],
      "source": [
        "dados['NIVEL DE ENSINO'].value_counts()"
      ]
    },
    {
      "cell_type": "code",
      "source": [
        "dados['NIVEL DE ENSINO'] = dados['NIVEL DE ENSINO'].apply(lambda x: 0 if x == 'Não tenho graduação formal' else\n",
        "                             1 if x == 'Estudante de Graduação' else\n",
        "                             2 if x == 'Graduação/Bacharelado' else\n",
        "                             3 if x == 'Mestrado' else\n",
        "                             4 if x == 'Doutorado ou Phd' else -1)"
      ],
      "metadata": {
        "colab": {
          "base_uri": "https://localhost:8080/"
        },
        "id": "QGGcIJZKOtTR",
        "outputId": "135e63f6-326d-4d42-8b5a-6cef34180f79"
      },
      "execution_count": null,
      "outputs": [
        {
          "output_type": "stream",
          "name": "stderr",
          "text": [
            "<ipython-input-193-e815741c98c0>:1: SettingWithCopyWarning: \n",
            "A value is trying to be set on a copy of a slice from a DataFrame.\n",
            "Try using .loc[row_indexer,col_indexer] = value instead\n",
            "\n",
            "See the caveats in the documentation: https://pandas.pydata.org/pandas-docs/stable/user_guide/indexing.html#returning-a-view-versus-a-copy\n",
            "  dados['NIVEL DE ENSINO'] = dados['NIVEL DE ENSINO'].apply(lambda x: 0 if x == 'Não tenho graduação formal' else\n"
          ]
        }
      ]
    },
    {
      "cell_type": "code",
      "source": [
        "dados['NIVEL DE ENSINO'].value_counts()"
      ],
      "metadata": {
        "colab": {
          "base_uri": "https://localhost:8080/",
          "height": 303
        },
        "id": "iRoKHC9DPY2Y",
        "outputId": "7f627c98-9c22-4d3d-c114-9656d8b76091"
      },
      "execution_count": null,
      "outputs": [
        {
          "output_type": "execute_result",
          "data": {
            "text/plain": [
              "NIVEL DE ENSINO\n",
              " 2    1024\n",
              "-1     979\n",
              " 3     306\n",
              " 1     271\n",
              " 4     100\n",
              " 0      52\n",
              "Name: count, dtype: int64"
            ],
            "text/html": [
              "<div>\n",
              "<style scoped>\n",
              "    .dataframe tbody tr th:only-of-type {\n",
              "        vertical-align: middle;\n",
              "    }\n",
              "\n",
              "    .dataframe tbody tr th {\n",
              "        vertical-align: top;\n",
              "    }\n",
              "\n",
              "    .dataframe thead th {\n",
              "        text-align: right;\n",
              "    }\n",
              "</style>\n",
              "<table border=\"1\" class=\"dataframe\">\n",
              "  <thead>\n",
              "    <tr style=\"text-align: right;\">\n",
              "      <th></th>\n",
              "      <th>count</th>\n",
              "    </tr>\n",
              "    <tr>\n",
              "      <th>NIVEL DE ENSINO</th>\n",
              "      <th></th>\n",
              "    </tr>\n",
              "  </thead>\n",
              "  <tbody>\n",
              "    <tr>\n",
              "      <th>2</th>\n",
              "      <td>1024</td>\n",
              "    </tr>\n",
              "    <tr>\n",
              "      <th>-1</th>\n",
              "      <td>979</td>\n",
              "    </tr>\n",
              "    <tr>\n",
              "      <th>3</th>\n",
              "      <td>306</td>\n",
              "    </tr>\n",
              "    <tr>\n",
              "      <th>1</th>\n",
              "      <td>271</td>\n",
              "    </tr>\n",
              "    <tr>\n",
              "      <th>4</th>\n",
              "      <td>100</td>\n",
              "    </tr>\n",
              "    <tr>\n",
              "      <th>0</th>\n",
              "      <td>52</td>\n",
              "    </tr>\n",
              "  </tbody>\n",
              "</table>\n",
              "</div><br><label><b>dtype:</b> int64</label>"
            ]
          },
          "metadata": {},
          "execution_count": 194
        }
      ]
    },
    {
      "cell_type": "code",
      "source": [
        "dados.info()"
      ],
      "metadata": {
        "colab": {
          "base_uri": "https://localhost:8080/"
        },
        "id": "OXf-tckgvH21",
        "outputId": "07f9af74-f903-4fe9-d0ec-91227f34b22a"
      },
      "execution_count": null,
      "outputs": [
        {
          "output_type": "stream",
          "name": "stdout",
          "text": [
            "<class 'pandas.core.frame.DataFrame'>\n",
            "Index: 2732 entries, 1 to 4270\n",
            "Data columns (total 50 columns):\n",
            " #   Column                                                                                                                     Non-Null Count  Dtype  \n",
            "---  ------                                                                                                                     --------------  -----  \n",
            " 0   ID                                                                                                                         2732 non-null   object \n",
            " 1   IDADE                                                                                                                      2732 non-null   float64\n",
            " 2   FAIXA IDADE                                                                                                                2732 non-null   object \n",
            " 3   GENERO                                                                                                                     2732 non-null   object \n",
            " 4   COR/RACA/ETNIA                                                                                                             2732 non-null   object \n",
            " 5   PCD                                                                                                                        2732 non-null   object \n",
            " 6   EXPERIENCIA_PROFISSIONAL_PREJUDICADA                                                                                       1380 non-null   object \n",
            " 7   ASPECTOS_PREJUDICADOS                                                                                                      530 non-null    object \n",
            " 8   VIVE_NO_BRASIL                                                                                                             2732 non-null   bool   \n",
            " 9   ESTADO ONDE MORA                                                                                                           2708 non-null   object \n",
            " 10  UF ONDE MORA                                                                                                               2708 non-null   object \n",
            " 11  REGIAO ONDE MORA                                                                                                           2715 non-null   object \n",
            " 12  MUDOU DE ESTADO?                                                                                                           2715 non-null   float64\n",
            " 13  REGIAO DE ORIGEM                                                                                                           493 non-null    object \n",
            " 14  NIVEL DE ENSINO                                                                                                            2732 non-null   int64  \n",
            " 15  ÁREA DE FORMAÇÃO                                                                                                           2676 non-null   object \n",
            " 16  QUAL SUA SITUAÇÃO ATUAL DE TRABALHO?                                                                                       2732 non-null   object \n",
            " 17  SETOR                                                                                                                      2732 non-null   object \n",
            " 18  NUMERO DE FUNCIONARIOS                                                                                                     2732 non-null   object \n",
            " 19  GESTOR?                                                                                                                    2732 non-null   float64\n",
            " 20  CARGO COMO GESTOR                                                                                                          464 non-null    object \n",
            " 21  CARGO ATUAL                                                                                                                2268 non-null   object \n",
            " 22  FAIXA SALARIAL                                                                                                             2732 non-null   object \n",
            " 23  QUANTO TEMPO DE EXPERIÊNCIA NA ÁREA DE DADOS VOCÊ TEM?                                                                     2732 non-null   object \n",
            " 24  QUANTO TEMPO DE EXPERIÊNCIA NA ÁREA DE TI/ENGENHARIA DE SOFTWARE VOCÊ TEVE ANTES DE COMEÇAR A TRABALHAR NA ÁREA DE DADOS?  2732 non-null   object \n",
            " 25  SALARIO                                                                                                                    2732 non-null   float64\n",
            " 26  NOVO_NIVEL                                                                                                                 2732 non-null   object \n",
            " 27  NIVEL_Júnior                                                                                                               2732 non-null   bool   \n",
            " 28  NIVEL_Pleno                                                                                                                2732 non-null   bool   \n",
            " 29  NIVEL_Sênior                                                                                                               2732 non-null   bool   \n",
            " 30  GEARACAO                                                                                                                   2732 non-null   object \n",
            " 31  Quanto tempo de experiência na área de dados você tem?                                                                     2732 non-null   object \n",
            " 32  Quanto tempo de experiência na área de TI/Engenharia de Software você teve antes de começar a trabalhar na área de dados?  2732 non-null   object \n",
            " 33  Você está satisfeito na sua empresa atual?                                                                                 2732 non-null   float64\n",
            " 34  Qual o principal motivo da sua insatisfação com a empresa atual?                                                           661 non-null    object \n",
            " 35  Você participou de entrevistas de emprego nos últimos 6 meses?                                                             2732 non-null   object \n",
            " 36  Você pretende mudar de emprego nos próximos 6 meses?                                                                       2732 non-null   object \n",
            " 37  Quais os principais critérios que você leva em consideração no momento de decidir onde trabalhar?                          2732 non-null   object \n",
            " 38  Atualmente qual a sua forma de trabalho?                                                                                   2732 non-null   object \n",
            " 39  Qual a forma de trabalho ideal para você?                                                                                  2732 non-null   object \n",
            " 40  Caso sua empresa decida pelo modelo 100% presencial qual será sua atitude?                                                 2732 non-null   object \n",
            " 41  Sua empresa passu por Layoff em 2022?                                                                                      2732 non-null   object \n",
            " 42  Atuacao                                                                                                                    2732 non-null   object \n",
            " 43  Quais das linguagens listadas abaixo você utiliza no trabalho?                                                             2268 non-null   object \n",
            " 44  EM_BUSCA                                                                                                                   2732 non-null   float64\n",
            " 45  ABERTO_OPORTUNIDADES                                                                                                       2732 non-null   float64\n",
            " 46  NÃO BRANCA                                                                                                                 2732 non-null   int64  \n",
            " 47  TEMPO_EXPERIENCIA                                                                                                          2732 non-null   object \n",
            " 48  NUMERO DE FUNCIONARIOS_2                                                                                                   2732 non-null   object \n",
            " 49  INSATISFACAO_SALARIO                                                                                                       2732 non-null   int64  \n",
            "dtypes: bool(4), float64(7), int64(3), object(36)\n",
            "memory usage: 1013.8+ KB\n"
          ]
        }
      ]
    },
    {
      "cell_type": "markdown",
      "source": [
        "## Separando as variáveis do modelo"
      ],
      "metadata": {
        "id": "VBrubO3cQKns"
      }
    },
    {
      "cell_type": "code",
      "source": [
        "dados.columns"
      ],
      "metadata": {
        "colab": {
          "base_uri": "https://localhost:8080/"
        },
        "id": "bX3MIq6ZQi91",
        "outputId": "ebb01300-f9b6-4997-a8b2-37e9159607dc"
      },
      "execution_count": null,
      "outputs": [
        {
          "output_type": "execute_result",
          "data": {
            "text/plain": [
              "Index(['ID', 'IDADE', 'FAIXA IDADE', 'GENERO', 'COR/RACA/ETNIA', 'PCD',\n",
              "       'EXPERIENCIA_PROFISSIONAL_PREJUDICADA', 'ASPECTOS_PREJUDICADOS',\n",
              "       'VIVE_NO_BRASIL', 'ESTADO ONDE MORA', 'UF ONDE MORA',\n",
              "       'REGIAO ONDE MORA', 'MUDOU DE ESTADO?', 'REGIAO DE ORIGEM',\n",
              "       'NIVEL DE ENSINO', 'ÁREA DE FORMAÇÃO',\n",
              "       'QUAL SUA SITUAÇÃO ATUAL DE TRABALHO?', 'SETOR',\n",
              "       'NUMERO DE FUNCIONARIOS', 'GESTOR?', 'CARGO COMO GESTOR', 'CARGO ATUAL',\n",
              "       'FAIXA SALARIAL',\n",
              "       'QUANTO TEMPO DE EXPERIÊNCIA NA ÁREA DE DADOS VOCÊ TEM?',\n",
              "       'QUANTO TEMPO DE EXPERIÊNCIA NA ÁREA DE TI/ENGENHARIA DE SOFTWARE VOCÊ TEVE ANTES DE COMEÇAR A TRABALHAR NA ÁREA DE DADOS?',\n",
              "       'SALARIO', 'NOVO_NIVEL', 'NIVEL_Júnior', 'NIVEL_Pleno', 'NIVEL_Sênior',\n",
              "       'GEARACAO', 'Quanto tempo de experiência na área de dados você tem?',\n",
              "       'Quanto tempo de experiência na área de TI/Engenharia de Software você teve antes de começar a trabalhar na área de dados?',\n",
              "       'Você está satisfeito na sua empresa atual?',\n",
              "       'Qual o principal motivo da sua insatisfação com a empresa atual?',\n",
              "       'Você participou de entrevistas de emprego nos últimos 6 meses?',\n",
              "       'Você pretende mudar de emprego nos próximos 6 meses?',\n",
              "       'Quais os principais critérios que você leva em consideração no momento de decidir onde trabalhar?',\n",
              "       'Atualmente qual a sua forma de trabalho?',\n",
              "       'Qual a forma de trabalho ideal para você?',\n",
              "       'Caso sua empresa decida pelo modelo 100% presencial qual será sua atitude?',\n",
              "       'Sua empresa passu por Layoff em 2022?', 'Atuacao',\n",
              "       'Quais das linguagens listadas abaixo você utiliza no trabalho?',\n",
              "       'EM_BUSCA', 'ABERTO_OPORTUNIDADES', 'NÃO BRANCA', 'TEMPO_EXPERIENCIA',\n",
              "       'NUMERO DE FUNCIONARIOS_2', 'INSATISFACAO_SALARIO'],\n",
              "      dtype='object')"
            ]
          },
          "metadata": {},
          "execution_count": 196
        }
      ]
    },
    {
      "cell_type": "code",
      "source": [
        "dados = dados[['IDADE', 'GENERO', 'NOVO_NIVEL', 'SALARIO', 'NÃO BRANCA', 'TEMPO_EXPERIENCIA', 'NUMERO DE FUNCIONARIOS_2', 'INSATISFACAO_SALARIO', 'NIVEL DE ENSINO', 'REGIAO ONDE MORA', 'SETOR']]"
      ],
      "metadata": {
        "id": "MknSHBsRPorP"
      },
      "execution_count": null,
      "outputs": []
    },
    {
      "cell_type": "code",
      "source": [
        "dados.info()"
      ],
      "metadata": {
        "colab": {
          "base_uri": "https://localhost:8080/"
        },
        "id": "8S1AWWuGvaEU",
        "outputId": "99955b02-a1a9-480f-e04b-7e3313c3120f"
      },
      "execution_count": null,
      "outputs": [
        {
          "output_type": "stream",
          "name": "stdout",
          "text": [
            "<class 'pandas.core.frame.DataFrame'>\n",
            "Index: 2732 entries, 1 to 4270\n",
            "Data columns (total 11 columns):\n",
            " #   Column                    Non-Null Count  Dtype  \n",
            "---  ------                    --------------  -----  \n",
            " 0   IDADE                     2732 non-null   float64\n",
            " 1   GENERO                    2732 non-null   object \n",
            " 2   NOVO_NIVEL                2732 non-null   object \n",
            " 3   SALARIO                   2732 non-null   float64\n",
            " 4   NÃO BRANCA                2732 non-null   int64  \n",
            " 5   TEMPO_EXPERIENCIA         2732 non-null   object \n",
            " 6   NUMERO DE FUNCIONARIOS_2  2732 non-null   object \n",
            " 7   INSATISFACAO_SALARIO      2732 non-null   int64  \n",
            " 8   NIVEL DE ENSINO           2732 non-null   int64  \n",
            " 9   REGIAO ONDE MORA          2715 non-null   object \n",
            " 10  SETOR                     2732 non-null   object \n",
            "dtypes: float64(2), int64(3), object(6)\n",
            "memory usage: 256.1+ KB\n"
          ]
        }
      ]
    },
    {
      "cell_type": "markdown",
      "source": [
        "Para as variável \"Gênero\", \"regiao onde mora\", \"novo nivel\", \"setor\", pois são variáveis, cujos dados não possuem grau de importancia, vamos transformá-las em variáveis dummies:"
      ],
      "metadata": {
        "id": "wJSqVe8IRNVY"
      }
    },
    {
      "cell_type": "code",
      "source": [
        "dados = pd.get_dummies(dados, columns=['GENERO', 'NOVO_NIVEL', 'SETOR', 'REGIAO ONDE MORA'], drop_first=True)"
      ],
      "metadata": {
        "id": "i7B_qkPhRm46"
      },
      "execution_count": null,
      "outputs": []
    },
    {
      "cell_type": "markdown",
      "source": [
        "## **Conjunto teste e conjunto treinamento**"
      ],
      "metadata": {
        "id": "G3jzrfBX1tU0"
      }
    },
    {
      "cell_type": "markdown",
      "source": [
        "Aqui dividi meus dados em dois:\n",
        "\n",
        "- Em um conjunto de treinamento - que é utilizado pelo modelo para aprender;\n",
        "- Conjunto de teste - utilizado para analisar o desempenho do modelo para os dados que ele ainda não viu."
      ],
      "metadata": {
        "id": "VutKZctrL8LL"
      }
    },
    {
      "cell_type": "code",
      "source": [
        "# atributos - variáveis preditivas\n",
        "X = dados.drop('SALARIO', axis=1)\n",
        "# retiramos o salário, que é a variável que valor prever\n",
        "\n",
        "# objetivo - salário - variável que vamos prever\n",
        "y = dados['SALARIO']"
      ],
      "metadata": {
        "id": "otEoqrK-1zlm"
      },
      "execution_count": null,
      "outputs": []
    },
    {
      "cell_type": "markdown",
      "source": [
        "Dividindo e dados de treino e teste"
      ],
      "metadata": {
        "id": "K0CCX_V7NXQS"
      }
    },
    {
      "cell_type": "code",
      "source": [
        "from sklearn.model_selection import train_test_split"
      ],
      "metadata": {
        "id": "CPdOlW6UNVbi"
      },
      "execution_count": null,
      "outputs": []
    },
    {
      "cell_type": "code",
      "source": [
        "X_train, X_test, y_train, y_test = train_test_split(X, y, test_size=0.2, random_state=42)"
      ],
      "metadata": {
        "id": "3-VpNg37NrE1"
      },
      "execution_count": null,
      "outputs": []
    },
    {
      "cell_type": "markdown",
      "source": [
        "Para normalizar os dados, iremos importar a biblioteca sklearn.preprocessing.\n",
        "\n",
        "Criamos a normalização, pois os modelos de regressão funcionam melhor quando os dados tem uma escala uniforme.\n",
        "\n",
        "Nós criamos o objeto de normalização e aplicamos."
      ],
      "metadata": {
        "id": "upyiMwJUPg6d"
      }
    },
    {
      "cell_type": "code",
      "source": [
        "from sklearn.preprocessing import StandardScaler"
      ],
      "metadata": {
        "id": "QoSplqONPVFn"
      },
      "execution_count": null,
      "outputs": []
    },
    {
      "cell_type": "code",
      "source": [
        "scaler = StandardScaler()\n",
        "\n",
        "#normalizando a variável de treino e teste\n",
        "X_train_scaled = scaler.fit_transform(X_train)\n",
        "X_test_scaled = scaler.transform(X_test)"
      ],
      "metadata": {
        "id": "2dYbcnQTQMqQ"
      },
      "execution_count": null,
      "outputs": []
    },
    {
      "cell_type": "markdown",
      "source": [
        "## Modelo de Regressão"
      ],
      "metadata": {
        "id": "djNfiHdXRR1Q"
      }
    },
    {
      "cell_type": "code",
      "source": [
        "from sklearn.linear_model import LinearRegression"
      ],
      "metadata": {
        "id": "Kq3cys1dRRND"
      },
      "execution_count": null,
      "outputs": []
    },
    {
      "cell_type": "code",
      "source": [
        "model = LinearRegression()"
      ],
      "metadata": {
        "id": "gmNFtYtFQOiE"
      },
      "execution_count": null,
      "outputs": []
    },
    {
      "cell_type": "code",
      "source": [
        "model.fit(X_train_scaled, y_train)"
      ],
      "metadata": {
        "colab": {
          "base_uri": "https://localhost:8080/",
          "height": 74
        },
        "id": "hKh0xN7sSJE_",
        "outputId": "66a00cbe-1cdc-4f3f-c465-3a255b3641b8"
      },
      "execution_count": null,
      "outputs": [
        {
          "output_type": "execute_result",
          "data": {
            "text/plain": [
              "LinearRegression()"
            ],
            "text/html": [
              "<style>#sk-container-id-4 {color: black;}#sk-container-id-4 pre{padding: 0;}#sk-container-id-4 div.sk-toggleable {background-color: white;}#sk-container-id-4 label.sk-toggleable__label {cursor: pointer;display: block;width: 100%;margin-bottom: 0;padding: 0.3em;box-sizing: border-box;text-align: center;}#sk-container-id-4 label.sk-toggleable__label-arrow:before {content: \"▸\";float: left;margin-right: 0.25em;color: #696969;}#sk-container-id-4 label.sk-toggleable__label-arrow:hover:before {color: black;}#sk-container-id-4 div.sk-estimator:hover label.sk-toggleable__label-arrow:before {color: black;}#sk-container-id-4 div.sk-toggleable__content {max-height: 0;max-width: 0;overflow: hidden;text-align: left;background-color: #f0f8ff;}#sk-container-id-4 div.sk-toggleable__content pre {margin: 0.2em;color: black;border-radius: 0.25em;background-color: #f0f8ff;}#sk-container-id-4 input.sk-toggleable__control:checked~div.sk-toggleable__content {max-height: 200px;max-width: 100%;overflow: auto;}#sk-container-id-4 input.sk-toggleable__control:checked~label.sk-toggleable__label-arrow:before {content: \"▾\";}#sk-container-id-4 div.sk-estimator input.sk-toggleable__control:checked~label.sk-toggleable__label {background-color: #d4ebff;}#sk-container-id-4 div.sk-label input.sk-toggleable__control:checked~label.sk-toggleable__label {background-color: #d4ebff;}#sk-container-id-4 input.sk-hidden--visually {border: 0;clip: rect(1px 1px 1px 1px);clip: rect(1px, 1px, 1px, 1px);height: 1px;margin: -1px;overflow: hidden;padding: 0;position: absolute;width: 1px;}#sk-container-id-4 div.sk-estimator {font-family: monospace;background-color: #f0f8ff;border: 1px dotted black;border-radius: 0.25em;box-sizing: border-box;margin-bottom: 0.5em;}#sk-container-id-4 div.sk-estimator:hover {background-color: #d4ebff;}#sk-container-id-4 div.sk-parallel-item::after {content: \"\";width: 100%;border-bottom: 1px solid gray;flex-grow: 1;}#sk-container-id-4 div.sk-label:hover label.sk-toggleable__label {background-color: #d4ebff;}#sk-container-id-4 div.sk-serial::before {content: \"\";position: absolute;border-left: 1px solid gray;box-sizing: border-box;top: 0;bottom: 0;left: 50%;z-index: 0;}#sk-container-id-4 div.sk-serial {display: flex;flex-direction: column;align-items: center;background-color: white;padding-right: 0.2em;padding-left: 0.2em;position: relative;}#sk-container-id-4 div.sk-item {position: relative;z-index: 1;}#sk-container-id-4 div.sk-parallel {display: flex;align-items: stretch;justify-content: center;background-color: white;position: relative;}#sk-container-id-4 div.sk-item::before, #sk-container-id-4 div.sk-parallel-item::before {content: \"\";position: absolute;border-left: 1px solid gray;box-sizing: border-box;top: 0;bottom: 0;left: 50%;z-index: -1;}#sk-container-id-4 div.sk-parallel-item {display: flex;flex-direction: column;z-index: 1;position: relative;background-color: white;}#sk-container-id-4 div.sk-parallel-item:first-child::after {align-self: flex-end;width: 50%;}#sk-container-id-4 div.sk-parallel-item:last-child::after {align-self: flex-start;width: 50%;}#sk-container-id-4 div.sk-parallel-item:only-child::after {width: 0;}#sk-container-id-4 div.sk-dashed-wrapped {border: 1px dashed gray;margin: 0 0.4em 0.5em 0.4em;box-sizing: border-box;padding-bottom: 0.4em;background-color: white;}#sk-container-id-4 div.sk-label label {font-family: monospace;font-weight: bold;display: inline-block;line-height: 1.2em;}#sk-container-id-4 div.sk-label-container {text-align: center;}#sk-container-id-4 div.sk-container {/* jupyter's `normalize.less` sets `[hidden] { display: none; }` but bootstrap.min.css set `[hidden] { display: none !important; }` so we also need the `!important` here to be able to override the default hidden behavior on the sphinx rendered scikit-learn.org. See: https://github.com/scikit-learn/scikit-learn/issues/21755 */display: inline-block !important;position: relative;}#sk-container-id-4 div.sk-text-repr-fallback {display: none;}</style><div id=\"sk-container-id-4\" class=\"sk-top-container\"><div class=\"sk-text-repr-fallback\"><pre>LinearRegression()</pre><b>In a Jupyter environment, please rerun this cell to show the HTML representation or trust the notebook. <br />On GitHub, the HTML representation is unable to render, please try loading this page with nbviewer.org.</b></div><div class=\"sk-container\" hidden><div class=\"sk-item\"><div class=\"sk-estimator sk-toggleable\"><input class=\"sk-toggleable__control sk-hidden--visually\" id=\"sk-estimator-id-4\" type=\"checkbox\" checked><label for=\"sk-estimator-id-4\" class=\"sk-toggleable__label sk-toggleable__label-arrow\">LinearRegression</label><div class=\"sk-toggleable__content\"><pre>LinearRegression()</pre></div></div></div></div></div>"
            ]
          },
          "metadata": {},
          "execution_count": 210
        }
      ]
    },
    {
      "cell_type": "code",
      "source": [
        "# predição do conjunto de teste\n",
        "y_pred = model.predict(X_test_scaled)"
      ],
      "metadata": {
        "id": "UYLk70UpSjSs"
      },
      "execution_count": null,
      "outputs": []
    },
    {
      "cell_type": "code",
      "source": [
        "# avaliando o modelo de regressão\n",
        "from sklearn.metrics import mean_squared_error, r2_score, mean_absolute_error"
      ],
      "metadata": {
        "id": "vTagJyu3SmDA"
      },
      "execution_count": null,
      "outputs": []
    },
    {
      "cell_type": "code",
      "source": [
        "# erro quadrático médio\n",
        "mse = mean_squared_error(y_test, y_pred)\n",
        "print('Erro quadrático médio:', mse)"
      ],
      "metadata": {
        "colab": {
          "base_uri": "https://localhost:8080/"
        },
        "id": "ByQcYfgaTc33",
        "outputId": "eb90731d-49a9-47d6-8f48-d7a645e9c087"
      },
      "execution_count": null,
      "outputs": [
        {
          "output_type": "stream",
          "name": "stdout",
          "text": [
            "Erro quadrático médio: 24270057.066701677\n"
          ]
        }
      ]
    },
    {
      "cell_type": "code",
      "source": [
        "# erro médio absoluto\n",
        "mae = mean_absolute_error(y_test, y_pred)\n",
        "print('Erro médio absoluto:', mae)"
      ],
      "metadata": {
        "colab": {
          "base_uri": "https://localhost:8080/"
        },
        "id": "FnZ0TcnjT1jf",
        "outputId": "af50c094-8446-4613-d282-959d958fa8b1"
      },
      "execution_count": null,
      "outputs": [
        {
          "output_type": "stream",
          "name": "stdout",
          "text": [
            "Erro médio absoluto: 3396.6371413332663\n"
          ]
        }
      ]
    },
    {
      "cell_type": "code",
      "source": [
        "r2 = r2_score(y_test, y_pred)\n",
        "print('Coeficiente de determinação (R²):', r2)"
      ],
      "metadata": {
        "id": "1yiuxsJ5T6Ng",
        "colab": {
          "base_uri": "https://localhost:8080/"
        },
        "outputId": "c998f1da-2f3c-4eb9-859a-6d7c118ad243"
      },
      "execution_count": null,
      "outputs": [
        {
          "output_type": "stream",
          "name": "stdout",
          "text": [
            "Coeficiente de determinação (R²): 0.5048160321000107\n"
          ]
        }
      ]
    },
    {
      "cell_type": "markdown",
      "source": [
        "**R2 Moderado**: O valor de 0,50 indica um desempenho mediano do modelo. Isso sugere que ele está capturando parte das tendências nos dados.\n",
        "\n",
        "O gráfico mostrando a linha de tendência poderá esclarecer melhor quais pontos o modelo prever melhoro salário."
      ],
      "metadata": {
        "id": "PK1ohbn1Owg3"
      }
    },
    {
      "cell_type": "markdown",
      "source": [
        "## Gráfico do Modelo\n",
        "\n",
        "Aqui, vamos fazer um gráfico dos valore reais e valores preditos"
      ],
      "metadata": {
        "id": "irGFwrRBw_Er"
      }
    },
    {
      "cell_type": "code",
      "source": [
        "import matplotlib.pyplot as plt"
      ],
      "metadata": {
        "id": "3EOaI7FaxF6i"
      },
      "execution_count": null,
      "outputs": []
    },
    {
      "cell_type": "code",
      "source": [
        "plt.figure(figsize=(10, 6))\n",
        "plt.scatter(y_test, y_pred, alpha = 0.5)\n",
        "plt.xlabel('Valor Real')\n",
        "plt.ylabel('Valor Predito')\n",
        "plt.title('Gráfico de Dispersão entre Valor Real e Valor Predito')\n",
        "plt.plot([min(y_test), max(y_test)], [min(y_test), max(y_test)], color='red', linewidth=2)\n",
        "plt.show()"
      ],
      "metadata": {
        "colab": {
          "base_uri": "https://localhost:8080/",
          "height": 565
        },
        "id": "RbNM9VTgxJhz",
        "outputId": "73095854-d90c-484e-a112-1efa8af4ab53"
      },
      "execution_count": null,
      "outputs": [
        {
          "output_type": "display_data",
          "data": {
            "text/plain": [
              "<Figure size 1000x600 with 1 Axes>"
            ],
            "image/png": "[encoded data removed]"
          },
          "metadata": {}
        }
      ]
    },
    {
      "cell_type": "markdown",
      "source": [
        "É possível analisar através do gráfico acima que o modelo prever bem os salários abaixo de 20.000 reais."
      ],
      "metadata": {
        "id": "XQ0IFlnqzXsn"
      }
    },
    {
      "cell_type": "markdown",
      "source": [
        "## Coeficientes do modelo"
      ],
      "metadata": {
        "id": "WF9Lkag7zT4h"
      }
    },
    {
      "cell_type": "markdown",
      "source": [
        "Aqui, vamos determinar quais coeficientes são maiores para entender quais variáveis possuem um peso maior na determinação do salário."
      ],
      "metadata": {
        "id": "yJym2f1czjtu"
      }
    },
    {
      "cell_type": "code",
      "source": [
        "#variável com o nome dos atributos\n",
        "nomes_atributo = X_train.columns\n",
        "nomes_atributo"
      ],
      "metadata": {
        "colab": {
          "base_uri": "https://localhost:8080/",
          "height": 176
        },
        "id": "W9shzP2LyTck",
        "outputId": "5706d911-1e54-41e0-fdf9-d88803e95ad1"
      },
      "execution_count": 1,
      "outputs": [
        {
          "output_type": "error",
          "ename": "NameError",
          "evalue": "name 'X_train' is not defined",
          "traceback": [
            "\u001b[0;31m---------------------------------------------------------------------------\u001b[0m",
            "\u001b[0;31mNameError\u001b[0m                                 Traceback (most recent call last)",
            "\u001b[0;32m<ipython-input-1-c8ecf574dc99>\u001b[0m in \u001b[0;36m<cell line: 2>\u001b[0;34m()\u001b[0m\n\u001b[1;32m      1\u001b[0m \u001b[0;31m#variável com o nome dos atributos\u001b[0m\u001b[0;34m\u001b[0m\u001b[0;34m\u001b[0m\u001b[0m\n\u001b[0;32m----> 2\u001b[0;31m \u001b[0mnomes_atributo\u001b[0m \u001b[0;34m=\u001b[0m \u001b[0mX_train\u001b[0m\u001b[0;34m.\u001b[0m\u001b[0mcolumns\u001b[0m\u001b[0;34m\u001b[0m\u001b[0;34m\u001b[0m\u001b[0m\n\u001b[0m\u001b[1;32m      3\u001b[0m \u001b[0mnomes_atributo\u001b[0m\u001b[0;34m\u001b[0m\u001b[0;34m\u001b[0m\u001b[0m\n",
            "\u001b[0;31mNameError\u001b[0m: name 'X_train' is not defined"
          ]
        }
      ]
    },
    {
      "cell_type": "markdown",
      "source": [
        "Criando um data frame com os valores dos coeficientes do modelo:"
      ],
      "metadata": {
        "id": "Kl97Epm60PRQ"
      }
    },
    {
      "cell_type": "markdown",
      "source": [
        "Forma 1:"
      ],
      "metadata": {
        "id": "2ccrJsox2c9f"
      }
    },
    {
      "cell_type": "code",
      "source": [
        "# criando um data frame do pandas com os valores dos coeficientes\n",
        "df_coef = pd.DataFrame({'Atributo': nomes_atributo, 'Coeficiente': model.coef_})"
      ],
      "metadata": {
        "id": "yk0kb8CIz6c8"
      },
      "execution_count": null,
      "outputs": []
    },
    {
      "cell_type": "code",
      "source": [
        "df_coef.head()"
      ],
      "metadata": {
        "colab": {
          "base_uri": "https://localhost:8080/",
          "height": 206
        },
        "id": "ZR-8ElCh1Uo5",
        "outputId": "c4f7dfaf-03d4-4ddd-a0a0-a4d113209e72"
      },
      "execution_count": null,
      "outputs": [
        {
          "output_type": "execute_result",
          "data": {
            "text/plain": [
              "                   Atributo  Coeficiente\n",
              "0                     IDADE  -142.776908\n",
              "1                NÃO BRANCA  -407.873013\n",
              "2         TEMPO_EXPERIENCIA  2120.746026\n",
              "3  NUMERO DE FUNCIONARIOS_2   842.741221\n",
              "4      INSATISFACAO_SALARIO  -555.896725"
            ],
            "text/html": [
              "\n",
              "  <div id=\"df-a2080d67-6758-444b-ab89-c9fdc7bb5b69\" class=\"colab-df-container\">\n",
              "    <div>\n",
              "<style scoped>\n",
              "    .dataframe tbody tr th:only-of-type {\n",
              "        vertical-align: middle;\n",
              "    }\n",
              "\n",
              "    .dataframe tbody tr th {\n",
              "        vertical-align: top;\n",
              "    }\n",
              "\n",
              "    .dataframe thead th {\n",
              "        text-align: right;\n",
              "    }\n",
              "</style>\n",
              "<table border=\"1\" class=\"dataframe\">\n",
              "  <thead>\n",
              "    <tr style=\"text-align: right;\">\n",
              "      <th></th>\n",
              "      <th>Atributo</th>\n",
              "      <th>Coeficiente</th>\n",
              "    </tr>\n",
              "  </thead>\n",
              "  <tbody>\n",
              "    <tr>\n",
              "      <th>0</th>\n",
              "      <td>IDADE</td>\n",
              "      <td>-142.776908</td>\n",
              "    </tr>\n",
              "    <tr>\n",
              "      <th>1</th>\n",
              "      <td>NÃO BRANCA</td>\n",
              "      <td>-407.873013</td>\n",
              "    </tr>\n",
              "    <tr>\n",
              "      <th>2</th>\n",
              "      <td>TEMPO_EXPERIENCIA</td>\n",
              "      <td>2120.746026</td>\n",
              "    </tr>\n",
              "    <tr>\n",
              "      <th>3</th>\n",
              "      <td>NUMERO DE FUNCIONARIOS_2</td>\n",
              "      <td>842.741221</td>\n",
              "    </tr>\n",
              "    <tr>\n",
              "      <th>4</th>\n",
              "      <td>INSATISFACAO_SALARIO</td>\n",
              "      <td>-555.896725</td>\n",
              "    </tr>\n",
              "  </tbody>\n",
              "</table>\n",
              "</div>\n",
              "    <div class=\"colab-df-buttons\">\n",
              "\n",
              "  <div class=\"colab-df-container\">\n",
              "    <button class=\"colab-df-convert\" onclick=\"convertToInteractive('df-a2080d67-6758-444b-ab89-c9fdc7bb5b69')\"\n",
              "            title=\"Convert this dataframe to an interactive table.\"\n",
              "            style=\"display:none;\">\n",
              "\n",
              "  <svg xmlns=\"http://www.w3.org/2000/svg\" height=\"24px\" viewBox=\"0 -960 960 960\">\n",
              "    <path d=\"M120-120v-720h720v720H120Zm60-500h600v-160H180v160Zm220 220h160v-160H400v160Zm0 220h160v-160H400v160ZM180-400h160v-160H180v160Zm440 0h160v-160H620v160ZM180-180h160v-160H180v160Zm440 0h160v-160H620v160Z\"/>\n",
              "  </svg>\n",
              "    </button>\n",
              "\n",
              "  <style>\n",
              "    .colab-df-container {\n",
              "      display:flex;\n",
              "      gap: 12px;\n",
              "    }\n",
              "\n",
              "    .colab-df-convert {\n",
              "      background-color: #E8F0FE;\n",
              "      border: none;\n",
              "      border-radius: 50%;\n",
              "      cursor: pointer;\n",
              "      display: none;\n",
              "      fill: #1967D2;\n",
              "      height: 32px;\n",
              "      padding: 0 0 0 0;\n",
              "      width: 32px;\n",
              "    }\n",
              "\n",
              "    .colab-df-convert:hover {\n",
              "      background-color: #E2EBFA;\n",
              "      box-shadow: 0px 1px 2px rgba(60, 64, 67, 0.3), 0px 1px 3px 1px rgba(60, 64, 67, 0.15);\n",
              "      fill: #174EA6;\n",
              "    }\n",
              "\n",
              "    .colab-df-buttons div {\n",
              "      margin-bottom: 4px;\n",
              "    }\n",
              "\n",
              "    [theme=dark] .colab-df-convert {\n",
              "      background-color: #3B4455;\n",
              "      fill: #D2E3FC;\n",
              "    }\n",
              "\n",
              "    [theme=dark] .colab-df-convert:hover {\n",
              "      background-color: #434B5C;\n",
              "      box-shadow: 0px 1px 3px 1px rgba(0, 0, 0, 0.15);\n",
              "      filter: drop-shadow(0px 1px 2px rgba(0, 0, 0, 0.3));\n",
              "      fill: #FFFFFF;\n",
              "    }\n",
              "  </style>\n",
              "\n",
              "    <script>\n",
              "      const buttonEl =\n",
              "        document.querySelector('#df-a2080d67-6758-444b-ab89-c9fdc7bb5b69 button.colab-df-convert');\n",
              "      buttonEl.style.display =\n",
              "        google.colab.kernel.accessAllowed ? 'block' : 'none';\n",
              "\n",
              "      async function convertToInteractive(key) {\n",
              "        const element = document.querySelector('#df-a2080d67-6758-444b-ab89-c9fdc7bb5b69');\n",
              "        const dataTable =\n",
              "          await google.colab.kernel.invokeFunction('convertToInteractive',\n",
              "                                                    [key], {});\n",
              "        if (!dataTable) return;\n",
              "\n",
              "        const docLinkHtml = 'Like what you see? Visit the ' +\n",
              "          '<a target=\"_blank\" href=https://colab.research.google.com/notebooks/data_table.ipynb>data table notebook</a>'\n",
              "          + ' to learn more about interactive tables.';\n",
              "        element.innerHTML = '';\n",
              "        dataTable['output_type'] = 'display_data';\n",
              "        await google.colab.output.renderOutput(dataTable, element);\n",
              "        const docLink = document.createElement('div');\n",
              "        docLink.innerHTML = docLinkHtml;\n",
              "        element.appendChild(docLink);\n",
              "      }\n",
              "    </script>\n",
              "  </div>\n",
              "\n",
              "\n",
              "<div id=\"df-568f6032-34ed-463d-976c-bb05dd1489dc\">\n",
              "  <button class=\"colab-df-quickchart\" onclick=\"quickchart('df-568f6032-34ed-463d-976c-bb05dd1489dc')\"\n",
              "            title=\"Suggest charts\"\n",
              "            style=\"display:none;\">\n",
              "\n",
              "<svg xmlns=\"http://www.w3.org/2000/svg\" height=\"24px\"viewBox=\"0 0 24 24\"\n",
              "     width=\"24px\">\n",
              "    <g>\n",
              "        <path d=\"M19 3H5c-1.1 0-2 .9-2 2v14c0 1.1.9 2 2 2h14c1.1 0 2-.9 2-2V5c0-1.1-.9-2-2-2zM9 17H7v-7h2v7zm4 0h-2V7h2v10zm4 0h-2v-4h2v4z\"/>\n",
              "    </g>\n",
              "</svg>\n",
              "  </button>\n",
              "\n",
              "<style>\n",
              "  .colab-df-quickchart {\n",
              "      --bg-color: #E8F0FE;\n",
              "      --fill-color: #1967D2;\n",
              "      --hover-bg-color: #E2EBFA;\n",
              "      --hover-fill-color: #174EA6;\n",
              "      --disabled-fill-color: #AAA;\n",
              "      --disabled-bg-color: #DDD;\n",
              "  }\n",
              "\n",
              "  [theme=dark] .colab-df-quickchart {\n",
              "      --bg-color: #3B4455;\n",
              "      --fill-color: #D2E3FC;\n",
              "      --hover-bg-color: #434B5C;\n",
              "      --hover-fill-color: #FFFFFF;\n",
              "      --disabled-bg-color: #3B4455;\n",
              "      --disabled-fill-color: #666;\n",
              "  }\n",
              "\n",
              "  .colab-df-quickchart {\n",
              "    background-color: var(--bg-color);\n",
              "    border: none;\n",
              "    border-radius: 50%;\n",
              "    cursor: pointer;\n",
              "    display: none;\n",
              "    fill: var(--fill-color);\n",
              "    height: 32px;\n",
              "    padding: 0;\n",
              "    width: 32px;\n",
              "  }\n",
              "\n",
              "  .colab-df-quickchart:hover {\n",
              "    background-color: var(--hover-bg-color);\n",
              "    box-shadow: 0 1px 2px rgba(60, 64, 67, 0.3), 0 1px 3px 1px rgba(60, 64, 67, 0.15);\n",
              "    fill: var(--button-hover-fill-color);\n",
              "  }\n",
              "\n",
              "  .colab-df-quickchart-complete:disabled,\n",
              "  .colab-df-quickchart-complete:disabled:hover {\n",
              "    background-color: var(--disabled-bg-color);\n",
              "    fill: var(--disabled-fill-color);\n",
              "    box-shadow: none;\n",
              "  }\n",
              "\n",
              "  .colab-df-spinner {\n",
              "    border: 2px solid var(--fill-color);\n",
              "    border-color: transparent;\n",
              "    border-bottom-color: var(--fill-color);\n",
              "    animation:\n",
              "      spin 1s steps(1) infinite;\n",
              "  }\n",
              "\n",
              "  @keyframes spin {\n",
              "    0% {\n",
              "      border-color: transparent;\n",
              "      border-bottom-color: var(--fill-color);\n",
              "      border-left-color: var(--fill-color);\n",
              "    }\n",
              "    20% {\n",
              "      border-color: transparent;\n",
              "      border-left-color: var(--fill-color);\n",
              "      border-top-color: var(--fill-color);\n",
              "    }\n",
              "    30% {\n",
              "      border-color: transparent;\n",
              "      border-left-color: var(--fill-color);\n",
              "      border-top-color: var(--fill-color);\n",
              "      border-right-color: var(--fill-color);\n",
              "    }\n",
              "    40% {\n",
              "      border-color: transparent;\n",
              "      border-right-color: var(--fill-color);\n",
              "      border-top-color: var(--fill-color);\n",
              "    }\n",
              "    60% {\n",
              "      border-color: transparent;\n",
              "      border-right-color: var(--fill-color);\n",
              "    }\n",
              "    80% {\n",
              "      border-color: transparent;\n",
              "      border-right-color: var(--fill-color);\n",
              "      border-bottom-color: var(--fill-color);\n",
              "    }\n",
              "    90% {\n",
              "      border-color: transparent;\n",
              "      border-bottom-color: var(--fill-color);\n",
              "    }\n",
              "  }\n",
              "</style>\n",
              "\n",
              "  <script>\n",
              "    async function quickchart(key) {\n",
              "      const quickchartButtonEl =\n",
              "        document.querySelector('#' + key + ' button');\n",
              "      quickchartButtonEl.disabled = true;  // To prevent multiple clicks.\n",
              "      quickchartButtonEl.classList.add('colab-df-spinner');\n",
              "      try {\n",
              "        const charts = await google.colab.kernel.invokeFunction(\n",
              "            'suggestCharts', [key], {});\n",
              "      } catch (error) {\n",
              "        console.error('Error during call to suggestCharts:', error);\n",
              "      }\n",
              "      quickchartButtonEl.classList.remove('colab-df-spinner');\n",
              "      quickchartButtonEl.classList.add('colab-df-quickchart-complete');\n",
              "    }\n",
              "    (() => {\n",
              "      let quickchartButtonEl =\n",
              "        document.querySelector('#df-568f6032-34ed-463d-976c-bb05dd1489dc button');\n",
              "      quickchartButtonEl.style.display =\n",
              "        google.colab.kernel.accessAllowed ? 'block' : 'none';\n",
              "    })();\n",
              "  </script>\n",
              "</div>\n",
              "\n",
              "    </div>\n",
              "  </div>\n"
            ],
            "application/vnd.google.colaboratory.intrinsic+json": {
              "type": "dataframe",
              "variable_name": "df_coef",
              "summary": "{\n  \"name\": \"df_coef\",\n  \"rows\": 35,\n  \"fields\": [\n    {\n      \"column\": \"Atributo\",\n      \"properties\": {\n        \"dtype\": \"string\",\n        \"num_unique_values\": 35,\n        \"samples\": [\n          \"SETOR_Tecnologia/F\\u00e1brica de Software\",\n          \"SETOR_Filantropia/ONG's\",\n          \"SETOR_Setor P\\u00fablico\"\n        ],\n        \"semantic_type\": \"\",\n        \"description\": \"\"\n      }\n    },\n    {\n      \"column\": \"Coeficiente\",\n      \"properties\": {\n        \"dtype\": \"number\",\n        \"std\": 940.3078722421616,\n        \"min\": -659.6604363691638,\n        \"max\": 4239.982290363478,\n        \"num_unique_values\": 35,\n        \"samples\": [\n          503.54087613255,\n          -181.65882096190495,\n          -93.78090999758159\n        ],\n        \"semantic_type\": \"\",\n        \"description\": \"\"\n      }\n    }\n  ]\n}"
            }
          },
          "metadata": {},
          "execution_count": 226
        }
      ]
    },
    {
      "cell_type": "markdown",
      "source": [
        "Forma 2:"
      ],
      "metadata": {
        "id": "eQMUVAFv2fRB"
      }
    },
    {
      "cell_type": "code",
      "source": [
        "df_coef_2 = pd.DataFrame(model.coef_, columns=['Coeficiente'], index=nomes_atributo)"
      ],
      "metadata": {
        "id": "1DlFXhse1Wso"
      },
      "execution_count": null,
      "outputs": []
    },
    {
      "cell_type": "code",
      "source": [
        "df_coef_2.head()"
      ],
      "metadata": {
        "colab": {
          "base_uri": "https://localhost:8080/",
          "height": 206
        },
        "id": "e_llpCx91rKC",
        "outputId": "5d261b01-64f1-412c-cca1-710b68efff49"
      },
      "execution_count": null,
      "outputs": [
        {
          "output_type": "execute_result",
          "data": {
            "text/plain": [
              "                          Coeficiente\n",
              "IDADE                     -142.776908\n",
              "NÃO BRANCA                -407.873013\n",
              "TEMPO_EXPERIENCIA         2120.746026\n",
              "NUMERO DE FUNCIONARIOS_2   842.741221\n",
              "INSATISFACAO_SALARIO      -555.896725"
            ],
            "text/html": [
              "\n",
              "  <div id=\"df-e9bca68e-039d-4703-9c0e-57880788417a\" class=\"colab-df-container\">\n",
              "    <div>\n",
              "<style scoped>\n",
              "    .dataframe tbody tr th:only-of-type {\n",
              "        vertical-align: middle;\n",
              "    }\n",
              "\n",
              "    .dataframe tbody tr th {\n",
              "        vertical-align: top;\n",
              "    }\n",
              "\n",
              "    .dataframe thead th {\n",
              "        text-align: right;\n",
              "    }\n",
              "</style>\n",
              "<table border=\"1\" class=\"dataframe\">\n",
              "  <thead>\n",
              "    <tr style=\"text-align: right;\">\n",
              "      <th></th>\n",
              "      <th>Coeficiente</th>\n",
              "    </tr>\n",
              "  </thead>\n",
              "  <tbody>\n",
              "    <tr>\n",
              "      <th>IDADE</th>\n",
              "      <td>-142.776908</td>\n",
              "    </tr>\n",
              "    <tr>\n",
              "      <th>NÃO BRANCA</th>\n",
              "      <td>-407.873013</td>\n",
              "    </tr>\n",
              "    <tr>\n",
              "      <th>TEMPO_EXPERIENCIA</th>\n",
              "      <td>2120.746026</td>\n",
              "    </tr>\n",
              "    <tr>\n",
              "      <th>NUMERO DE FUNCIONARIOS_2</th>\n",
              "      <td>842.741221</td>\n",
              "    </tr>\n",
              "    <tr>\n",
              "      <th>INSATISFACAO_SALARIO</th>\n",
              "      <td>-555.896725</td>\n",
              "    </tr>\n",
              "  </tbody>\n",
              "</table>\n",
              "</div>\n",
              "    <div class=\"colab-df-buttons\">\n",
              "\n",
              "  <div class=\"colab-df-container\">\n",
              "    <button class=\"colab-df-convert\" onclick=\"convertToInteractive('df-e9bca68e-039d-4703-9c0e-57880788417a')\"\n",
              "            title=\"Convert this dataframe to an interactive table.\"\n",
              "            style=\"display:none;\">\n",
              "\n",
              "  <svg xmlns=\"http://www.w3.org/2000/svg\" height=\"24px\" viewBox=\"0 -960 960 960\">\n",
              "    <path d=\"M120-120v-720h720v720H120Zm60-500h600v-160H180v160Zm220 220h160v-160H400v160Zm0 220h160v-160H400v160ZM180-400h160v-160H180v160Zm440 0h160v-160H620v160ZM180-180h160v-160H180v160Zm440 0h160v-160H620v160Z\"/>\n",
              "  </svg>\n",
              "    </button>\n",
              "\n",
              "  <style>\n",
              "    .colab-df-container {\n",
              "      display:flex;\n",
              "      gap: 12px;\n",
              "    }\n",
              "\n",
              "    .colab-df-convert {\n",
              "      background-color: #E8F0FE;\n",
              "      border: none;\n",
              "      border-radius: 50%;\n",
              "      cursor: pointer;\n",
              "      display: none;\n",
              "      fill: #1967D2;\n",
              "      height: 32px;\n",
              "      padding: 0 0 0 0;\n",
              "      width: 32px;\n",
              "    }\n",
              "\n",
              "    .colab-df-convert:hover {\n",
              "      background-color: #E2EBFA;\n",
              "      box-shadow: 0px 1px 2px rgba(60, 64, 67, 0.3), 0px 1px 3px 1px rgba(60, 64, 67, 0.15);\n",
              "      fill: #174EA6;\n",
              "    }\n",
              "\n",
              "    .colab-df-buttons div {\n",
              "      margin-bottom: 4px;\n",
              "    }\n",
              "\n",
              "    [theme=dark] .colab-df-convert {\n",
              "      background-color: #3B4455;\n",
              "      fill: #D2E3FC;\n",
              "    }\n",
              "\n",
              "    [theme=dark] .colab-df-convert:hover {\n",
              "      background-color: #434B5C;\n",
              "      box-shadow: 0px 1px 3px 1px rgba(0, 0, 0, 0.15);\n",
              "      filter: drop-shadow(0px 1px 2px rgba(0, 0, 0, 0.3));\n",
              "      fill: #FFFFFF;\n",
              "    }\n",
              "  </style>\n",
              "\n",
              "    <script>\n",
              "      const buttonEl =\n",
              "        document.querySelector('#df-e9bca68e-039d-4703-9c0e-57880788417a button.colab-df-convert');\n",
              "      buttonEl.style.display =\n",
              "        google.colab.kernel.accessAllowed ? 'block' : 'none';\n",
              "\n",
              "      async function convertToInteractive(key) {\n",
              "        const element = document.querySelector('#df-e9bca68e-039d-4703-9c0e-57880788417a');\n",
              "        const dataTable =\n",
              "          await google.colab.kernel.invokeFunction('convertToInteractive',\n",
              "                                                    [key], {});\n",
              "        if (!dataTable) return;\n",
              "\n",
              "        const docLinkHtml = 'Like what you see? Visit the ' +\n",
              "          '<a target=\"_blank\" href=https://colab.research.google.com/notebooks/data_table.ipynb>data table notebook</a>'\n",
              "          + ' to learn more about interactive tables.';\n",
              "        element.innerHTML = '';\n",
              "        dataTable['output_type'] = 'display_data';\n",
              "        await google.colab.output.renderOutput(dataTable, element);\n",
              "        const docLink = document.createElement('div');\n",
              "        docLink.innerHTML = docLinkHtml;\n",
              "        element.appendChild(docLink);\n",
              "      }\n",
              "    </script>\n",
              "  </div>\n",
              "\n",
              "\n",
              "<div id=\"df-60c212f0-e4d5-474d-afb7-075606dfa558\">\n",
              "  <button class=\"colab-df-quickchart\" onclick=\"quickchart('df-60c212f0-e4d5-474d-afb7-075606dfa558')\"\n",
              "            title=\"Suggest charts\"\n",
              "            style=\"display:none;\">\n",
              "\n",
              "<svg xmlns=\"http://www.w3.org/2000/svg\" height=\"24px\"viewBox=\"0 0 24 24\"\n",
              "     width=\"24px\">\n",
              "    <g>\n",
              "        <path d=\"M19 3H5c-1.1 0-2 .9-2 2v14c0 1.1.9 2 2 2h14c1.1 0 2-.9 2-2V5c0-1.1-.9-2-2-2zM9 17H7v-7h2v7zm4 0h-2V7h2v10zm4 0h-2v-4h2v4z\"/>\n",
              "    </g>\n",
              "</svg>\n",
              "  </button>\n",
              "\n",
              "<style>\n",
              "  .colab-df-quickchart {\n",
              "      --bg-color: #E8F0FE;\n",
              "      --fill-color: #1967D2;\n",
              "      --hover-bg-color: #E2EBFA;\n",
              "      --hover-fill-color: #174EA6;\n",
              "      --disabled-fill-color: #AAA;\n",
              "      --disabled-bg-color: #DDD;\n",
              "  }\n",
              "\n",
              "  [theme=dark] .colab-df-quickchart {\n",
              "      --bg-color: #3B4455;\n",
              "      --fill-color: #D2E3FC;\n",
              "      --hover-bg-color: #434B5C;\n",
              "      --hover-fill-color: #FFFFFF;\n",
              "      --disabled-bg-color: #3B4455;\n",
              "      --disabled-fill-color: #666;\n",
              "  }\n",
              "\n",
              "  .colab-df-quickchart {\n",
              "    background-color: var(--bg-color);\n",
              "    border: none;\n",
              "    border-radius: 50%;\n",
              "    cursor: pointer;\n",
              "    display: none;\n",
              "    fill: var(--fill-color);\n",
              "    height: 32px;\n",
              "    padding: 0;\n",
              "    width: 32px;\n",
              "  }\n",
              "\n",
              "  .colab-df-quickchart:hover {\n",
              "    background-color: var(--hover-bg-color);\n",
              "    box-shadow: 0 1px 2px rgba(60, 64, 67, 0.3), 0 1px 3px 1px rgba(60, 64, 67, 0.15);\n",
              "    fill: var(--button-hover-fill-color);\n",
              "  }\n",
              "\n",
              "  .colab-df-quickchart-complete:disabled,\n",
              "  .colab-df-quickchart-complete:disabled:hover {\n",
              "    background-color: var(--disabled-bg-color);\n",
              "    fill: var(--disabled-fill-color);\n",
              "    box-shadow: none;\n",
              "  }\n",
              "\n",
              "  .colab-df-spinner {\n",
              "    border: 2px solid var(--fill-color);\n",
              "    border-color: transparent;\n",
              "    border-bottom-color: var(--fill-color);\n",
              "    animation:\n",
              "      spin 1s steps(1) infinite;\n",
              "  }\n",
              "\n",
              "  @keyframes spin {\n",
              "    0% {\n",
              "      border-color: transparent;\n",
              "      border-bottom-color: var(--fill-color);\n",
              "      border-left-color: var(--fill-color);\n",
              "    }\n",
              "    20% {\n",
              "      border-color: transparent;\n",
              "      border-left-color: var(--fill-color);\n",
              "      border-top-color: var(--fill-color);\n",
              "    }\n",
              "    30% {\n",
              "      border-color: transparent;\n",
              "      border-left-color: var(--fill-color);\n",
              "      border-top-color: var(--fill-color);\n",
              "      border-right-color: var(--fill-color);\n",
              "    }\n",
              "    40% {\n",
              "      border-color: transparent;\n",
              "      border-right-color: var(--fill-color);\n",
              "      border-top-color: var(--fill-color);\n",
              "    }\n",
              "    60% {\n",
              "      border-color: transparent;\n",
              "      border-right-color: var(--fill-color);\n",
              "    }\n",
              "    80% {\n",
              "      border-color: transparent;\n",
              "      border-right-color: var(--fill-color);\n",
              "      border-bottom-color: var(--fill-color);\n",
              "    }\n",
              "    90% {\n",
              "      border-color: transparent;\n",
              "      border-bottom-color: var(--fill-color);\n",
              "    }\n",
              "  }\n",
              "</style>\n",
              "\n",
              "  <script>\n",
              "    async function quickchart(key) {\n",
              "      const quickchartButtonEl =\n",
              "        document.querySelector('#' + key + ' button');\n",
              "      quickchartButtonEl.disabled = true;  // To prevent multiple clicks.\n",
              "      quickchartButtonEl.classList.add('colab-df-spinner');\n",
              "      try {\n",
              "        const charts = await google.colab.kernel.invokeFunction(\n",
              "            'suggestCharts', [key], {});\n",
              "      } catch (error) {\n",
              "        console.error('Error during call to suggestCharts:', error);\n",
              "      }\n",
              "      quickchartButtonEl.classList.remove('colab-df-spinner');\n",
              "      quickchartButtonEl.classList.add('colab-df-quickchart-complete');\n",
              "    }\n",
              "    (() => {\n",
              "      let quickchartButtonEl =\n",
              "        document.querySelector('#df-60c212f0-e4d5-474d-afb7-075606dfa558 button');\n",
              "      quickchartButtonEl.style.display =\n",
              "        google.colab.kernel.accessAllowed ? 'block' : 'none';\n",
              "    })();\n",
              "  </script>\n",
              "</div>\n",
              "\n",
              "    </div>\n",
              "  </div>\n"
            ],
            "application/vnd.google.colaboratory.intrinsic+json": {
              "type": "dataframe",
              "variable_name": "df_coef_2",
              "summary": "{\n  \"name\": \"df_coef_2\",\n  \"rows\": 35,\n  \"fields\": [\n    {\n      \"column\": \"Coeficiente\",\n      \"properties\": {\n        \"dtype\": \"number\",\n        \"std\": 940.3078722421616,\n        \"min\": -659.6604363691638,\n        \"max\": 4239.982290363478,\n        \"num_unique_values\": 35,\n        \"samples\": [\n          503.54087613255,\n          -181.65882096190495,\n          -93.78090999758159\n        ],\n        \"semantic_type\": \"\",\n        \"description\": \"\"\n      }\n    }\n  ]\n}"
            }
          },
          "metadata": {},
          "execution_count": 224
        }
      ]
    },
    {
      "cell_type": "markdown",
      "source": [
        "Agora vamos ordenar para ver quais coeficientes estão influenciando mais:"
      ],
      "metadata": {
        "id": "FPpmzAec2jE2"
      }
    },
    {
      "cell_type": "code",
      "source": [
        "coefs = df_coef.sort_values(by='Coeficiente', ascending=False)"
      ],
      "metadata": {
        "id": "wO1lbsi-1t35"
      },
      "execution_count": null,
      "outputs": []
    },
    {
      "cell_type": "code",
      "source": [
        "coefs.plot(kind='bar', x='Atributo', y='Coeficiente', figsize=(10, 6))\n",
        "plt.xlabel('Atributo')\n",
        "plt.ylabel('Coeficiente')\n",
        "plt.title('Coeficientes do Modelo')"
      ],
      "metadata": {
        "colab": {
          "base_uri": "https://localhost:8080/",
          "height": 857
        },
        "id": "fEJ1aVZH3Eo4",
        "outputId": "d65d6830-667e-455a-d6ec-42a5e3792e10"
      },
      "execution_count": null,
      "outputs": [
        {
          "output_type": "execute_result",
          "data": {
            "text/plain": [
              "Text(0.5, 1.0, 'Coeficientes do Modelo')"
            ]
          },
          "metadata": {},
          "execution_count": 230
        },
        {
          "output_type": "display_data",
          "data": {
            "text/plain": [
              "<Figure size 1000x600 with 1 Axes>"
            ],
            "image/png": "[encoded data removed]"
          },
          "metadata": {}
        }
      ]
    },
    {
      "cell_type": "code",
      "source": [
        "coefs.plot.barh(x='Atributo', y='Coeficiente', figsize=(10, 6))\n",
        "# linha de referencia\n",
        "plt.axvline(x=0, color='red', linestyle='--')\n",
        "plt.xlabel('Coeficiente')\n",
        "plt.ylabel('Atributo')\n",
        "plt.title('Coeficientes do Modelo')"
      ],
      "metadata": {
        "colab": {
          "base_uri": "https://localhost:8080/",
          "height": 581
        },
        "id": "9BR7s2qT3Ihf",
        "outputId": "56fc5fae-ab6f-4ac1-9739-0bbaf27eff92"
      },
      "execution_count": null,
      "outputs": [
        {
          "output_type": "execute_result",
          "data": {
            "text/plain": [
              "Text(0.5, 1.0, 'Coeficientes do Modelo')"
            ]
          },
          "metadata": {},
          "execution_count": 232
        },
        {
          "output_type": "display_data",
          "data": {
            "text/plain": [
              "<Figure size 1000x600 with 1 Axes>"
            ],
            "image/png": "[encoded data removed]"
          },
          "metadata": {}
        }
      ]
    },
    {
      "cell_type": "markdown",
      "source": [
        "Todas as barras antes do zero tem peso negativo para o valor do salário\n",
        "\n",
        "E todas as vagas depois do zer tem peso positivo para o valor do salário."
      ],
      "metadata": {
        "id": "uHE-84oV3zjp"
      }
    },
    {
      "cell_type": "markdown",
      "source": [
        "**Variáveis com influência Positiva:**\n",
        "\n",
        "É possível observar, que o que mais influencia para o salário ser alto é se a pessoa é gestora, seguido por a pessoa ser senior e assim sucessivamente."
      ],
      "metadata": {
        "id": "rU80BDlh4er-"
      }
    },
    {
      "cell_type": "markdown",
      "source": [
        "**Variáveis com influência Negativa:**\n",
        "\n",
        "- Pessoas que moram no sul do país teve um maior peso negativo;\n",
        "- Seguido por insatisfação - Mas nesse caso, possívelmente pelas pessoas terem salários baixos, elas estavam insatisfeitas;\n",
        "- Pessoas que moram no nordeste;\n",
        "- Pessoas não brancas - O nosso estudo inicial envolvia o estudo de diversidade e percebemos aqui que o fato da pessoa ser Não Branca tem um peso negativo para seu salário.\n",
        "\n"
      ],
      "metadata": {
        "id": "0Td4BLHB4m7v"
      }
    },
    {
      "cell_type": "code",
      "source": [],
      "metadata": {
        "id": "4p3Z930E3dfv"
      },
      "execution_count": null,
      "outputs": []
    }
  ],
  "metadata": {
    "colab": {
      "provenance": [],
      "toc_visible": true,
      "mount_file_id": "1tigQH9NniACN7Gj_PwdgPg8SgfMAIrf8",
      "authorship_tag": "ABX9TyNlReYDfPuXXiicNnsWHMUQ",
      "include_colab_link": true
    },
    "kernelspec": {
      "display_name": "Python 3",
      "name": "python3"
    },
    "language_info": {
      "name": "python"
    }
  },
  "nbformat": 4,
  "nbformat_minor": 0
}